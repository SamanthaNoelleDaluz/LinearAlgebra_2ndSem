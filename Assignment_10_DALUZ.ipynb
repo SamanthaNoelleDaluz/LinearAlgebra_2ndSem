{
  "nbformat": 4,
  "nbformat_minor": 0,
  "metadata": {
    "colab": {
      "name": "Assignment 10_DALUZ.ipynb",
      "provenance": [],
      "collapsed_sections": [],
      "authorship_tag": "ABX9TyMaYC24Ht0AYpgy0yP1/MOf",
      "include_colab_link": true
    },
    "kernelspec": {
      "name": "python3",
      "display_name": "Python 3"
    },
    "language_info": {
      "name": "python"
    }
  },
  "cells": [
    {
      "cell_type": "markdown",
      "metadata": {
        "id": "view-in-github",
        "colab_type": "text"
      },
      "source": [
        "<a href=\"https://colab.research.google.com/github/SamanthaNoelleDaluz/LinearAlgebra_2ndSem/blob/main/Assignment_10_DALUZ.ipynb\" target=\"_parent\"><img src=\"https://colab.research.google.com/assets/colab-badge.svg\" alt=\"Open In Colab\"/></a>"
      ]
    },
    {
      "cell_type": "markdown",
      "source": [
        "#Linear Algebra for ChE"
      ],
      "metadata": {
        "id": "SA25YAd7Y42i"
      }
    },
    {
      "cell_type": "markdown",
      "source": [
        "#Assignment 10 : Linear Combination and Vector Spaces"
      ],
      "metadata": {
        "id": "L0xQpNLERTXi"
      }
    },
    {
      "cell_type": "markdown",
      "source": [
        "Now that you have a fundamental knowledge about linear combination, we'll try to visualize it using scientific programming.\n",
        "\n"
      ],
      "metadata": {
        "id": "G4FcLaQZRUyH"
      }
    },
    {
      "cell_type": "markdown",
      "source": [
        "##Objectives"
      ],
      "metadata": {
        "id": "CPmQ5vWzRWN0"
      }
    },
    {
      "cell_type": "markdown",
      "source": [
        "At the end of this activity you will be able to:\n",
        "1.   Be familiar with representing linear combinations in the 2-dimensional plane.\n",
        "2.   Visualize spans using vector fields in Python.\n",
        "3. Perform vector fields operations using scientific programming.\n",
        "\n",
        "\n"
      ],
      "metadata": {
        "id": "9NqWTQT-RZqJ"
      }
    },
    {
      "cell_type": "markdown",
      "source": [
        "#Discussion"
      ],
      "metadata": {
        "id": "iQDiTBpjRkyt"
      }
    },
    {
      "cell_type": "code",
      "source": [
        "import numpy as np\n",
        "import matplotlib.pyplot as plt\n",
        "%matplotlib inline"
      ],
      "metadata": {
        "id": "V8HJLxyPRm3b"
      },
      "execution_count": null,
      "outputs": []
    },
    {
      "cell_type": "markdown",
      "source": [
        "# Linear Combination\n"
      ],
      "metadata": {
        "id": "kRPjJkkeR6f_"
      }
    },
    {
      "cell_type": "markdown",
      "source": [
        "A linear combination of vectors is defined as one vector being equal to the sum of scalar multiples of other vectors.\n",
        "\n",
        "For example, suppose 2a = 3b + 4c, as shown below.\n",
        "\n"
      ],
      "metadata": {
        "id": "iMKZAyhLR81T"
      }
    },
    {
      "cell_type": "markdown",
      "source": [
        "$$ 2\\begin{bmatrix} 11 \\\\ 16\\end{bmatrix} = 3\\begin{bmatrix} 1 \\\\ 2\\end{bmatrix} + 4\\begin{bmatrix} 3 \\\\ 4\\end{bmatrix}= \\begin{bmatrix} 3 * 1 + 4 * 3 \\\\ 3*2+4*4\\end{bmatrix}$$\n",
        "\n",
        "\n"
      ],
      "metadata": {
        "id": "u9em9LjmR_n-"
      }
    },
    {
      "cell_type": "markdown",
      "source": [
        "Note that 3b is a scalar multiple and 4c is a scalar multiple. Thus, 2a is a linear combination of b and c.\n",
        "\n"
      ],
      "metadata": {
        "id": "vAhbIoO2WdCy"
      }
    },
    {
      "cell_type": "markdown",
      "source": [
        "###Span of single vectors\n",
        "It is the collection of all number vector linear combinations. It can be represented by a line span. \n",
        "\n",
        "One vector with a scalar is ALWAYS on the same line, no matter how much it expands or shrinks, because the direction or slope does not change. A LINE IS ONE VECTOR'S SPAN.\n",
        "\n",
        "For example,\n",
        "\n"
      ],
      "metadata": {
        "id": "VblD6FQdSUZr"
      }
    },
    {
      "cell_type": "markdown",
      "source": [
        "$$ X=c \\cdot \\begin{bmatrix} 3 \\\\ 6\\end{bmatrix}$$"
      ],
      "metadata": {
        "id": "j3X96EU7SheV"
      }
    },
    {
      "cell_type": "markdown",
      "source": [
        "Shown below are the graphical representations using the coded single vectors. The codes used different single vectors per program while using 'np.arange' with a purpose to create an instance of ndarray with evenly spaced values and return the reference to it. Moreso, the code used 'plt.xlim' and 'plt.ylim' to set or get limits for X-axis and Y-axis respectively. Furthermore, 'plt.axhline' and 'plt.axvline' are used to draw lines at the axes coordinate. Finally, 'plt.grid' and 'plt.show' were incoded so the result would display all open figures and show a graph with grid lines.\n"
      ],
      "metadata": {
        "id": "Ibu9svsZbd4w"
      }
    },
    {
      "cell_type": "code",
      "source": [
        "vectX =  np.array([4,6])\n",
        "\n",
        "c = np.arange(-15,15,0.1)\n",
        "\n",
        "plt.scatter(c*vectX[0],c*vectX[1])\n",
        "\n",
        "\n",
        "plt.xlim(-15,15)\n",
        "plt.ylim(-15,15)\n",
        "plt.axhline(y=0, color='k')\n",
        "plt.axvline(x=0, color='k')\n",
        "plt.grid()\n",
        "plt.show()"
      ],
      "metadata": {
        "colab": {
          "base_uri": "https://localhost:8080/",
          "height": 269
        },
        "id": "nfgK3vWAS6Jn",
        "outputId": "3a795db9-decc-4fb9-e611-95e94753d830"
      },
      "execution_count": null,
      "outputs": [
        {
          "output_type": "display_data",
          "data": {
            "text/plain": [
              "<Figure size 432x288 with 1 Axes>"
            ],
            "image/png": "[encoded data removed]"
          },
          "metadata": {
            "needs_background": "light"
          }
        }
      ]
    },
    {
      "cell_type": "code",
      "source": [
        "vectY =  np.array([2,4])\n",
        "\n",
        "c = np.arange(-5,5,0.5)\n",
        "\n",
        "plt.scatter(c*vectY[1],c*vectY[0])\n",
        "\n",
        "plt.xlim(-10,5)\n",
        "plt.ylim(-10,5)\n",
        "plt.axhline(y=0, color='k')\n",
        "plt.axvline(x=0, color='k')\n",
        "plt.grid()\n",
        "plt.show()"
      ],
      "metadata": {
        "colab": {
          "base_uri": "https://localhost:8080/",
          "height": 265
        },
        "id": "ggoCVO_LiDvR",
        "outputId": "09b8da6c-7c85-4421-c8c1-a4c6ea481019"
      },
      "execution_count": null,
      "outputs": [
        {
          "output_type": "display_data",
          "data": {
            "text/plain": [
              "<Figure size 432x288 with 1 Axes>"
            ],
            "image/png": "[encoded data removed]"
          },
          "metadata": {
            "needs_background": "light"
          }
        }
      ]
    },
    {
      "cell_type": "markdown",
      "source": [
        "### Span of a linear combination of vectors\n",
        "Span of a vectors refers to all the linear combination of a number present in a vector. In other words, it is a set of all the linear combination or the multiples. It is just the basis of the ful llist of linear combinations that can be created from the elements present that wll be multiplied by a set of scalars.\n",
        "\n",
        "\n"
      ],
      "metadata": {
        "id": "830LLzQFTAlQ"
      }
    },
    {
      "cell_type": "markdown",
      "source": [
        "$$ X=\\begin{Bmatrix}c_{1} \\cdot \\begin{bmatrix} 1 \\\\ 0\\end{bmatrix},c_{2} \\cdot \\begin{bmatrix} 1 \\\\ -10\\end{bmatrix}\\end{Bmatrix}$$\n"
      ],
      "metadata": {
        "id": "WGqabF7dTHsL"
      }
    },
    {
      "cell_type": "code",
      "source": [
        "vectA = np.array([1,0])\n",
        "vectB = np.array([1,-1])\n",
        "R = np.arange(-10,10,1)\n",
        "c1, c2 = np.meshgrid(R,R)\n",
        "vectR = vectA + vectB\n",
        "spanRx = c1*vectA[0] + c2*vectB[0]\n",
        "spanRy = c1*vectA[1] + c2*vectB[1]\n",
        "plt.scatter(spanRx,spanRy, s=5, alpha=0.75)\n",
        "\n",
        "plt.axhline(y=0, color='k')\n",
        "plt.axvline(x=0, color='k')\n",
        "plt.grid()\n",
        "plt.show()"
      ],
      "metadata": {
        "colab": {
          "base_uri": "https://localhost:8080/",
          "height": 265
        },
        "id": "KORELMorVNWf",
        "outputId": "4a9d3b74-40e2-4dc4-846f-9d1cf15fdc88"
      },
      "execution_count": null,
      "outputs": [
        {
          "output_type": "display_data",
          "data": {
            "text/plain": [
              "<Figure size 432x288 with 1 Axes>"
            ],
            "image/png": "[encoded data removed]"
          },
          "metadata": {
            "needs_background": "light"
          }
        }
      ]
    },
    {
      "cell_type": "code",
      "source": [
        "vectP = np.array([6,4])\n",
        "vectQ = np.array([3,6])\n",
        "\n",
        "R = np.arange(-10,10,1)\n",
        "\n",
        "c1, c2 = np.meshgrid(R,R)\n",
        "\n",
        "vectR = vectP + vectQ\n",
        "spanRx = c1*vectP[0] + c2*vectQ[0]\n",
        "spanRy = c1*vectP[1] + c2*vectQ[1]\n",
        "#plt.scatter(R*vectA[0],R*vectA[1])\n",
        "#plt.scatter(R*vectB[0],R*vectB[1])\n",
        "plt.scatter(spanRx,spanRy, s=6, alpha=0.75)\n",
        "\n",
        "plt.axhline(y=0, color='k')\n",
        "plt.axvline(x=0, color='k')\n",
        "plt.grid()\n",
        "plt.show()"
      ],
      "metadata": {
        "colab": {
          "base_uri": "https://localhost:8080/",
          "height": 265
        },
        "id": "nDtVW_UBjOcV",
        "outputId": "d5026a7e-82e2-4dc9-a874-8e9e94ddc0e1"
      },
      "execution_count": null,
      "outputs": [
        {
          "output_type": "display_data",
          "data": {
            "text/plain": [
              "<Figure size 432x288 with 1 Axes>"
            ],
            "image/png": "[encoded data removed]"
          },
          "metadata": {
            "needs_background": "light"
          }
        }
      ]
    },
    {
      "cell_type": "markdown",
      "source": [
        "Shown on the graphs above are the graphical representation of the given vectors. Two set of vectors are represented by varibles A and B. The command \"np.arange\" is used to create an array with evenly spaced values and return the reference. The command \"np.meshgrid\" is used to create a rectangular grid out of the two given 1 dimensional arrays represented on a Cartesian plane. Resultant vector can be computed by adding the given vectors. On the other hand, the command \"spanRx\" and \"spanRy\" are used to represent a finite list of elements. The command \"plt.scatter\" is used to present data points and values in a scattered position. Commands \"plt.axhline\" and \"plt.axvline\" are used to add horizontal and vertical lines across the origin.\n"
      ],
      "metadata": {
        "id": "ZxTHTfeejzHl"
      }
    },
    {
      "cell_type": "markdown",
      "source": [
        "Take note that if vectors are seen to be as a 2-dimensional span we can say it has a Rank of 2 or $\\mathbb{R}^2$. But if the span of the linear combination of vectors are seen to be like a line, they are said to be <b> linearly dependent </b> and they have a rank of 1 or $\\mathbb{R}^1$."
      ],
      "metadata": {
        "id": "yoypnc7IVQD4"
      }
    },
    {
      "cell_type": "markdown",
      "source": [
        "#Activity"
      ],
      "metadata": {
        "id": "pmO3d6TlWplg"
      }
    },
    {
      "cell_type": "markdown",
      "source": [
        "##Task 1\n",
        "Try different linear combinations using different scalar values. In your methodology discuss the different functions that you have used, the linear equation and vector form of the linear combination, and the flowchart for declaring and displaying linear combinations. Please make sure that your flowchart has only few words and not putting the entire code as it is bad practice. In your results, display and discuss the linear combination visualization you made. You should use the cells below for displaying the equation markdows using LaTeX and your code.\n",
        "\n"
      ],
      "metadata": {
        "id": "KeGCq-QZXp2c"
      }
    },
    {
      "cell_type": "markdown",
      "source": [
        "$$S = \\begin{bmatrix} 7\\\\10 \\\\\\end{bmatrix} , L = \\begin{bmatrix} 10\\\\7 \\\\\\end{bmatrix} $$\n"
      ],
      "metadata": {
        "id": "jMAuhI-kXtSQ"
      }
    },
    {
      "cell_type": "code",
      "source": [
        "vectS = np.array([7,10])\n",
        "vectL = np.array([10,7])"
      ],
      "metadata": {
        "id": "Uzq6PRhuxz1v"
      },
      "execution_count": null,
      "outputs": []
    },
    {
      "cell_type": "markdown",
      "source": [
        "###Span of single vectors"
      ],
      "metadata": {
        "id": "cg_S4B0Y2Tkq"
      }
    },
    {
      "cell_type": "markdown",
      "source": [
        "$$S = t\\cdot \\begin{bmatrix} 7\\\\10 \\\\\\end{bmatrix} $$\n"
      ],
      "metadata": {
        "id": "KSlhNnQMx3ud"
      }
    },
    {
      "cell_type": "code",
      "source": [
        "t = np.arange(-5,5,0.175)\n",
        "\n",
        "plt.scatter(t*vectS[0],t*vectS[1], color='pink')\n",
        "plt.xlim(-5,5)\n",
        "plt.ylim(-5,5)\n",
        "plt.axhline(y=0, color='fuchsia')\n",
        "plt.axvline(x=0, color='fuchsia')\n",
        "plt.grid()\n",
        "plt.show()"
      ],
      "metadata": {
        "colab": {
          "base_uri": "https://localhost:8080/",
          "height": 265
        },
        "id": "MncY2Bvdx8Hf",
        "outputId": "7d92e30a-9e0d-4f9d-a417-37c5433355bc"
      },
      "execution_count": null,
      "outputs": [
        {
          "output_type": "display_data",
          "data": {
            "text/plain": [
              "<Figure size 432x288 with 1 Axes>"
            ],
            "image/png": "[encoded data removed]"
          },
          "metadata": {
            "needs_background": "light"
          }
        }
      ]
    },
    {
      "cell_type": "code",
      "source": [
        "t = np.arange(-8,2,0.1)\n",
        "\n",
        "plt.scatter(t*vectL[0],t*vectL[1], color='pink')\n",
        "plt.xlim(-10,10)\n",
        "plt.ylim(-10,10)\n",
        "plt.axhline(y=0, color='fuchsia')\n",
        "plt.axvline(x=0, color='fuchsia')\n",
        "plt.grid()\n",
        "plt.show()"
      ],
      "metadata": {
        "colab": {
          "base_uri": "https://localhost:8080/",
          "height": 269
        },
        "id": "Sn1qa3VV2hsp",
        "outputId": "ff1b8dc7-4745-44ba-be01-2c6bafd43187"
      },
      "execution_count": null,
      "outputs": [
        {
          "output_type": "display_data",
          "data": {
            "text/plain": [
              "<Figure size 432x288 with 1 Axes>"
            ],
            "image/png": "[encoded data removed]"
          },
          "metadata": {
            "needs_background": "light"
          }
        }
      ]
    },
    {
      "cell_type": "markdown",
      "source": [
        "###Span of a linear combination of vectors"
      ],
      "metadata": {
        "id": "enUvgrhk2JfI"
      }
    },
    {
      "cell_type": "markdown",
      "source": [
        "$$S = \\begin{Bmatrix} c_1 \\cdot\\begin{bmatrix} 7\\\\10 \\\\\\end{bmatrix}, \n",
        "c_2 \\cdot \\begin{bmatrix} 10\\\\7 \\\\\\end{bmatrix}\\end{Bmatrix} $$"
      ],
      "metadata": {
        "id": "ExSJD5PU2IHT"
      }
    },
    {
      "cell_type": "code",
      "source": [
        "K = np.arange(-10,10,.125)\n",
        "\n",
        "c1, c2 = np.meshgrid(K,K)\n",
        "\n",
        "vectK = vectS + vectL\n",
        "spanKx = c1*vectS[0] + c2*vectL[0]\n",
        "spanKy = c1*vectS[1] + c2*vectL[1]\n",
        "\n",
        "plt.scatter(spanKx,spanKy, s=10, alpha=0.75)\n",
        "plt.xlim(-10,10)\n",
        "plt.ylim(-10,10)\n",
        "plt.axhline(y=0, color='fuchsia')\n",
        "plt.axvline(x=0, color='fuchsia')\n",
        "plt.grid()\n",
        "plt.show()"
      ],
      "metadata": {
        "colab": {
          "base_uri": "https://localhost:8080/",
          "height": 269
        },
        "id": "oMp-XrNJzeaE",
        "outputId": "7fc21b5a-fa08-4398-fe4c-b00011f8500d"
      },
      "execution_count": null,
      "outputs": [
        {
          "output_type": "display_data",
          "data": {
            "text/plain": [
              "<Figure size 432x288 with 1 Axes>"
            ],
            "image/png": "[encoded data removed]"
          },
          "metadata": {
            "needs_background": "light"
          }
        }
      ]
    }
  ]
}