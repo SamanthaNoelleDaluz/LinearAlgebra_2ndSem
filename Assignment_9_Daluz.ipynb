{
  "nbformat": 4,
  "nbformat_minor": 0,
  "metadata": {
    "kernelspec": {
      "display_name": "Python 3",
      "language": "python",
      "name": "python3"
    },
    "language_info": {
      "codemirror_mode": {
        "name": "ipython",
        "version": 3
      },
      "file_extension": ".py",
      "mimetype": "text/x-python",
      "name": "python",
      "nbconvert_exporter": "python",
      "pygments_lexer": "ipython3",
      "version": "3.8.3"
    },
    "colab": {
      "name": "Assignment 9 - Daluz.ipynb",
      "provenance": [],
      "collapsed_sections": [],
      "include_colab_link": true
    }
  },
  "cells": [
    {
      "cell_type": "markdown",
      "metadata": {
        "id": "view-in-github",
        "colab_type": "text"
      },
      "source": [
        "<a href=\"https://colab.research.google.com/github/SamanthaNoelleDaluz/LinearAlgebra_2ndSem/blob/main/Assignment_9_Daluz.ipynb\" target=\"_parent\"><img src=\"https://colab.research.google.com/assets/colab-badge.svg\" alt=\"Open In Colab\"/></a>"
      ]
    },
    {
      "cell_type": "markdown",
      "metadata": {
        "id": "SLUubLCzHs4V"
      },
      "source": [
        "# Assignment 9 - Plotting Vector using NumPy and MatPlotLib"
      ]
    },
    {
      "cell_type": "markdown",
      "metadata": {
        "id": "QSDFae7hHs4Z"
      },
      "source": [
        "In this laboratory we will be discussing the basics of numerical and scientific programming by working with Vectors using NumPy and MatPlotLib."
      ]
    },
    {
      "cell_type": "markdown",
      "metadata": {
        "id": "Wg4cezD8Hs4b"
      },
      "source": [
        "### Objectives\n",
        "At the end of this activity you will be able to:\n",
        "1. Be familiar with the libraries in Python for numerical and scientific programming.\n",
        "2. Visualize vectors through Python programming.\n",
        "3. Perform simple vector operations through code."
      ]
    },
    {
      "cell_type": "markdown",
      "metadata": {
        "id": "UQD7DoC2Hs4b"
      },
      "source": [
        "## Discussion"
      ]
    },
    {
      "cell_type": "markdown",
      "metadata": {
        "id": "A6grbAIbHs4c"
      },
      "source": [
        "### NumPy"
      ]
    },
    {
      "cell_type": "markdown",
      "metadata": {
        "id": "xY4puSv4Hs4d"
      },
      "source": [
        "NumPy, or Numerical Python, is a programming language that is mostly used for matrix and vector operations. It can compute and represent matrices and declare them. NumPy is the foundation of most Python scientific programming libraries."
      ]
    },
    {
      "cell_type": "markdown",
      "metadata": {
        "id": "Psf8tzmWH4b6"
      },
      "source": [
        "Scalars \\\\\n",
        "Represent magnitude or a single value\n",
        "\n",
        "Vectors \\\\\n",
        "Represent magnitude with directors"
      ]
    },
    {
      "cell_type": "markdown",
      "metadata": {
        "id": "OXixP-e6Hs4d"
      },
      "source": [
        "#### Representing Vectors"
      ]
    },
    {
      "cell_type": "markdown",
      "metadata": {
        "id": "y-nXPTTuHs4e"
      },
      "source": [
        "Now that you know how to represent vectors using their component and matrix form we can now hard-code them in Python. Let's say that you have the vectors:"
      ]
    },
    {
      "cell_type": "markdown",
      "metadata": {
        "id": "LlEfOzbtHs4e"
      },
      "source": [
        "$$ A = 1\\hat{x} + 2\\hat{y} \\\\\n",
        "B = 2\\hat{x} +1\\hat{y}\\\\\n",
        "C = 3ax + 2ay +1az \\\\\n",
        "D = 1\\hat{i} +2\\hat{j} + 3\\hat{k}$$"
      ]
    },
    {
      "cell_type": "markdown",
      "metadata": {
        "id": "l6LHUvnRHs4f"
      },
      "source": [
        "In which it's matrix equivalent is:"
      ]
    },
    {
      "cell_type": "markdown",
      "metadata": {
        "id": "YKAjjPnYHs4g"
      },
      "source": [
        "$$ A = \\begin{bmatrix} 1 \\\\ 2\\end{bmatrix} , B = \\begin{bmatrix} 2 \\\\ 1\\end{bmatrix} , C = \\begin{bmatrix} 3 \\\\ 2 \\\\  1\\end{bmatrix}, D = \\begin{bmatrix} 1 \\\\ 2 \\\\ 3\\end{bmatrix}\n",
        "$$\n",
        "$$ A = \\begin{bmatrix} 1 & 2\\end{bmatrix} , B = \\begin{bmatrix} 2 & 1\\end{bmatrix} , C = \\begin{bmatrix} 3 & 2 & 1\\end{bmatrix} , D = \\begin{bmatrix} 1 & 2 & 3\\end{bmatrix} \n",
        "$$"
      ]
    },
    {
      "cell_type": "markdown",
      "metadata": {
        "id": "lkrX9lHBHs4g"
      },
      "source": [
        "We can then start doing numpy code with this by:"
      ]
    },
    {
      "cell_type": "code",
      "metadata": {
        "id": "Vi6yz53gHs4h"
      },
      "source": [
        "## Importing necessary libraries\n",
        "import numpy as np ## 'np' here is short-hand name of the library (numpy) or a nickname."
      ],
      "execution_count": null,
      "outputs": []
    },
    {
      "cell_type": "code",
      "metadata": {
        "colab": {
          "base_uri": "https://localhost:8080/"
        },
        "id": "KGr4fBg0Hs4j",
        "outputId": "6fe431db-c077-4c26-ae9e-44ba2a9d9df8"
      },
      "source": [
        "A = np.array([1, 2])\n",
        "B = np.array([2, 1])\n",
        "C = np.array([\n",
        "              [3],\n",
        "              [2],\n",
        "              [1]\n",
        "])\n",
        "D = np.array ([[1],\n",
        "              [2],\n",
        "              [3]])\n",
        "print('Vector A is ', A)\n",
        "print('Vector B is ', B)\n",
        "print('Vector C is ', C)\n",
        "print('Vector D is ', D)"
      ],
      "execution_count": null,
      "outputs": [
        {
          "output_type": "stream",
          "name": "stdout",
          "text": [
            "Vector A is  [1 2]\n",
            "Vector B is  [2 1]\n",
            "Vector C is  [[3]\n",
            " [2]\n",
            " [1]]\n",
            "Vector D is  [[1]\n",
            " [2]\n",
            " [3]]\n"
          ]
        }
      ]
    },
    {
      "cell_type": "markdown",
      "metadata": {
        "id": "DQhfqdq_Hs4l"
      },
      "source": [
        "#### Describing vectors in NumPy"
      ]
    },
    {
      "cell_type": "markdown",
      "metadata": {
        "id": "fzU-jDHoHs4m"
      },
      "source": [
        "If we wish to execute basic to complex operations using vectors, we must first define them. Knowing the *shape, size, and dimensions* of vectors are the most basic ways to describe them.\\\n",
        "\\\n",
        "**Shape** - this signifies the number of elements there are on each row and column. For example, for vector A, it can be denoted using \"A.shape\".\\\n",
        "**Size** - this signifies the total number of elements there are in the vector. For example, for vector B, it can be denoted using \"B.size\".\\\n",
        "**Dimension** - this signifies the number of dimensions there are in the vector. For example, for vector C, it can be denotes using \"C.ndim\". "
      ]
    },
    {
      "cell_type": "code",
      "metadata": {
        "colab": {
          "base_uri": "https://localhost:8080/"
        },
        "id": "HRz2gx6JHs4n",
        "outputId": "94110365-5105-445b-8705-3031c2ce1934"
      },
      "source": [
        "### Checking shapes\n",
        "H = np.array([9, -0.3, 1, 0, 1, 0, 4])\n",
        "print(A.shape)\n",
        "print(H.shape)\n",
        "print(C.shape)\n"
      ],
      "execution_count": null,
      "outputs": [
        {
          "output_type": "stream",
          "name": "stdout",
          "text": [
            "(2,)\n",
            "(7,)\n",
            "(3, 1)\n"
          ]
        }
      ]
    },
    {
      "cell_type": "code",
      "metadata": {
        "colab": {
          "base_uri": "https://localhost:8080/"
        },
        "id": "dlDEokrAHs4o",
        "outputId": "260a1a26-25ca-4a0a-9880-40ae1c2607b2"
      },
      "source": [
        "### Checking size\n",
        "H.size"
      ],
      "execution_count": null,
      "outputs": [
        {
          "output_type": "execute_result",
          "data": {
            "text/plain": [
              "7"
            ]
          },
          "metadata": {},
          "execution_count": 24
        }
      ]
    },
    {
      "cell_type": "code",
      "metadata": {
        "colab": {
          "base_uri": "https://localhost:8080/"
        },
        "id": "lwAQGA_JHs4p",
        "outputId": "5ffa4046-5e05-4500-9d7b-433305dd83ef"
      },
      "source": [
        "### Checking dimensions\n",
        "A.ndim"
      ],
      "execution_count": null,
      "outputs": [
        {
          "output_type": "execute_result",
          "data": {
            "text/plain": [
              "1"
            ]
          },
          "metadata": {},
          "execution_count": 25
        }
      ]
    },
    {
      "cell_type": "markdown",
      "metadata": {
        "id": "MReB86duHs4q"
      },
      "source": [
        "Great! Now let's try to explore in performing operations with these vectors."
      ]
    },
    {
      "cell_type": "markdown",
      "source": [
        "##Operations of Vectors"
      ],
      "metadata": {
        "id": "XtVqHO_3bgge"
      }
    },
    {
      "cell_type": "markdown",
      "source": [
        "Now, using the vectors that were represented by variables, we can perform operations such as *Addition, Subtraction, Multiplication, and Division* to determine the resulting vector.\\\n",
        "\\\n",
        "**Addition** - in the addition rule, the elements of the matrices will be added together according to their index. This can be denoted using \"np.add()\" or simply by using the addition operation \"+\".\\\n",
        "**Subtraction** - in the subtraction rule, the elements of the matrices will be subtracted together according to their index. This can be denoted using \"np.subtract()\" or simply by using the subtraction operation \"-\".\\\n",
        "**Multiplication** - in the multiplication rule, the elements of the matrices will be multiplied together according to their index. This can be denoted using \"np.multiply()\" or simply by using the multiplication operation \"*\".\\\n",
        "**Division** - in the division rule, the elements of the matrices will be divided according to their index. This can be denoted using \"np.divide\" or simply by using the division operation \"/\".\n"
      ],
      "metadata": {
        "id": "F8vy0YQ9bk8g"
      }
    },
    {
      "cell_type": "markdown",
      "metadata": {
        "id": "tMdCFWyUHs4r"
      },
      "source": [
        "#### Addition"
      ]
    },
    {
      "cell_type": "markdown",
      "metadata": {
        "id": "OjVFwq6iHs4r"
      },
      "source": [
        "The addition rule is simple, the we just need to add the elements of the matrices according to their index. So in this case if we add vector $A$ and vector $B$ we will have a resulting vector:"
      ]
    },
    {
      "cell_type": "markdown",
      "metadata": {
        "id": "9zUtJ7oEHs4s"
      },
      "source": [
        "$$R = 3\\hat{x}+3\\hat{y} \\\\ \\\\or \\\\ \\\\ R = \\begin{bmatrix} 3 \\\\ 3\\end{bmatrix} $$"
      ]
    },
    {
      "cell_type": "markdown",
      "metadata": {
        "id": "gVg-6JwyHs4s"
      },
      "source": [
        "So let's try to do that in NumPy in several number of ways:"
      ]
    },
    {
      "cell_type": "code",
      "metadata": {
        "id": "X1D_izU4Hs4t"
      },
      "source": [
        "R = np.add(A, B) ## this is the functional method usisng the numpy library\n",
        "P = np.add(C, D)\n"
      ],
      "execution_count": null,
      "outputs": []
    },
    {
      "cell_type": "code",
      "metadata": {
        "colab": {
          "base_uri": "https://localhost:8080/"
        },
        "id": "jzH3b6dtHs4t",
        "outputId": "f9bf1d43-bdbb-4cd3-e281-160f48905943"
      },
      "source": [
        "R = A + B   ## this is the explicit method, since Python does a value-reference so it can \n",
        "            ## know that these variables would need to do array operations.\n",
        "R"
      ],
      "execution_count": null,
      "outputs": [
        {
          "output_type": "execute_result",
          "data": {
            "text/plain": [
              "array([3, 3])"
            ]
          },
          "metadata": {},
          "execution_count": 27
        }
      ]
    },
    {
      "cell_type": "code",
      "metadata": {
        "colab": {
          "base_uri": "https://localhost:8080/"
        },
        "id": "lFpzDkUbVE-s",
        "outputId": "7bfaa2e1-ec8c-4ec7-f742-1d7a196c851b"
      },
      "source": [
        "pos1 = np.array([0,0,0])\n",
        "pos2 = np.array([0,1,3])\n",
        "pos3 = np.array([1,5,-2])\n",
        "pos4 = np.array([5,-3,3])\n",
        "#R = pos1 + pos2 + pos3 + pos4\n",
        "#R = np.multiply(pos3, pos4)\n",
        "R = pos3 / pos4\n",
        "R"
      ],
      "execution_count": null,
      "outputs": [
        {
          "output_type": "execute_result",
          "data": {
            "text/plain": [
              "array([ 0.2       , -1.66666667, -0.66666667])"
            ]
          },
          "metadata": {},
          "execution_count": 28
        }
      ]
    },
    {
      "cell_type": "markdown",
      "metadata": {
        "id": "CuAeF55ZHs4u"
      },
      "source": [
        "##### Try for yourself!"
      ]
    },
    {
      "cell_type": "markdown",
      "metadata": {
        "id": "oeSxmIS8Hs4v"
      },
      "source": [
        "Try to implement subtraction, multiplication, and division with vectors $A$ and $B$!"
      ]
    },
    {
      "cell_type": "code",
      "source": [
        "ADD1 = A+B\n",
        "ADD2 = np.add (A,B)\n",
        "print(ADD1,\"&\",ADD2)"
      ],
      "metadata": {
        "colab": {
          "base_uri": "https://localhost:8080/"
        },
        "id": "7gPt1Sfvup4c",
        "outputId": "767bf988-3da1-4e06-e260-b655c954864e"
      },
      "execution_count": null,
      "outputs": [
        {
          "output_type": "stream",
          "name": "stdout",
          "text": [
            "[3 3] & [3 3]\n"
          ]
        }
      ]
    },
    {
      "cell_type": "code",
      "source": [
        "SUB1 = B-A\n",
        "SUB2 = np.subtract(B,A)\n",
        "print(SUB1,\"&\",SUB2)"
      ],
      "metadata": {
        "colab": {
          "base_uri": "https://localhost:8080/"
        },
        "id": "wix_vYKjumnS",
        "outputId": "255b90ff-ef79-4137-d555-50b7a70ed265"
      },
      "execution_count": null,
      "outputs": [
        {
          "output_type": "stream",
          "name": "stdout",
          "text": [
            "[ 1 -1] & [ 1 -1]\n"
          ]
        }
      ]
    },
    {
      "cell_type": "code",
      "source": [
        "MUL1=A*B\n",
        "MUL2=np.multiply(A,B)\n",
        "print(MUL1,\"&\",MUL2)"
      ],
      "metadata": {
        "colab": {
          "base_uri": "https://localhost:8080/"
        },
        "id": "pCpL3fnZum7y",
        "outputId": "c244c261-306d-45d9-9e8a-ad5ac4900e59"
      },
      "execution_count": null,
      "outputs": [
        {
          "output_type": "stream",
          "name": "stdout",
          "text": [
            "[2 2] & [2 2]\n"
          ]
        }
      ]
    },
    {
      "cell_type": "code",
      "source": [
        "DIV1=A/B\n",
        "DIV2=np.divide(A,B)\n",
        "print(DIV1,\"&\",DIV2)"
      ],
      "metadata": {
        "colab": {
          "base_uri": "https://localhost:8080/"
        },
        "id": "GvxTENUrwRTF",
        "outputId": "d8f56dcc-cd63-477c-f46c-67ab891de011"
      },
      "execution_count": null,
      "outputs": [
        {
          "output_type": "stream",
          "name": "stdout",
          "text": [
            "[0.5 2. ] & [0.5 2. ]\n"
          ]
        }
      ]
    },
    {
      "cell_type": "markdown",
      "metadata": {
        "id": "3otcBr7tHs4w"
      },
      "source": [
        "### Scaling"
      ]
    },
    {
      "cell_type": "markdown",
      "metadata": {
        "id": "FVwvCklOHs4x"
      },
      "source": [
        "Scaling, also known as scalar multiplication, involves multiplying a scalar value by a vector. This can be denoted using \"np.multiply()\". Consider the following example below:"
      ]
    },
    {
      "cell_type": "markdown",
      "metadata": {
        "id": "8el8_cMUHs4x"
      },
      "source": [
        "$$S = 5 \\cdot A$$"
      ]
    },
    {
      "cell_type": "markdown",
      "metadata": {
        "id": "Oh9sk6lKHs4y"
      },
      "source": [
        "We can do this in numpy through:"
      ]
    },
    {
      "cell_type": "code",
      "metadata": {
        "colab": {
          "base_uri": "https://localhost:8080/"
        },
        "id": "QNruUX1pHs4y",
        "outputId": "77cbf6f2-211f-4bd4-c6d0-93b81c83c94c"
      },
      "source": [
        "S = np.multiply(5,A)\n",
        "S"
      ],
      "execution_count": null,
      "outputs": [
        {
          "output_type": "execute_result",
          "data": {
            "text/plain": [
              "array([ 5, 10])"
            ]
          },
          "metadata": {},
          "execution_count": 33
        }
      ]
    },
    {
      "cell_type": "markdown",
      "metadata": {
        "id": "owN3j6rMWr-3"
      },
      "source": [
        "Try to implement scaling with two vectors."
      ]
    },
    {
      "cell_type": "code",
      "metadata": {
        "id": "EU0zkP_tWwWe",
        "colab": {
          "base_uri": "https://localhost:8080/"
        },
        "outputId": "1625ddb9-12fb-4a7f-cc51-e605b87f675f"
      },
      "source": [
        "W = np.multiply(6,C)\n",
        "Q = np.multiply(2,B,A)\n",
        "W, Q"
      ],
      "execution_count": null,
      "outputs": [
        {
          "output_type": "execute_result",
          "data": {
            "text/plain": [
              "(array([[18],\n",
              "        [12],\n",
              "        [ 6]]), array([4, 2]))"
            ]
          },
          "metadata": {},
          "execution_count": 34
        }
      ]
    },
    {
      "cell_type": "markdown",
      "metadata": {
        "id": "j04WSo4YHs4z"
      },
      "source": [
        "### MatPlotLib"
      ]
    },
    {
      "cell_type": "markdown",
      "metadata": {
        "id": "CP_9s8r-Hs4z"
      },
      "source": [
        "MatPlotLib, also known as the MATLab Plotting Library, is Python's version of MATLab's plotting feature. MatPlotLib has a wide range of applications, from charting values to visualizing data in several dimensions."
      ]
    },
    {
      "cell_type": "markdown",
      "metadata": {
        "id": "ZM6_LZWWHs42"
      },
      "source": [
        "#### Visualizing Data"
      ]
    },
    {
      "cell_type": "markdown",
      "metadata": {
        "id": "ziwIKGPHHs43"
      },
      "source": [
        "It's not enough just solving these vectors so might need to visualize them. So we'll use MatPlotLib for that. We'll need to import it first."
      ]
    },
    {
      "cell_type": "code",
      "metadata": {
        "id": "B2U78WnhHs43"
      },
      "source": [
        "import matplotlib.pyplot as plt\n",
        "import matplotlib\n",
        "%matplotlib inline"
      ],
      "execution_count": null,
      "outputs": []
    },
    {
      "cell_type": "markdown",
      "source": [
        "In this part, matplotlib.pyplot is used to plot the data described using the variables A and B. The values represented by A is 0,-5 and for B is 2,-3. The code plt.scatter is used to plot  these values by using dots as the representation. On the other hand, the commands plt.grid() and plt,legend() are used to display the graph. The graph is shown below: "
      ],
      "metadata": {
        "id": "AVJNwCQmsdEd"
      }
    },
    {
      "cell_type": "code",
      "metadata": {
        "colab": {
          "base_uri": "https://localhost:8080/",
          "height": 264
        },
        "id": "38rzjx3jXkK_",
        "outputId": "c0bf7004-0eeb-47eb-b53c-533c1c995892"
      },
      "source": [
        "A = [2, -3]\n",
        "B = [5, -1]\n",
        "plt.scatter(A[0], A[1], label='A', c='green')\n",
        "plt.scatter(B[0], B[1], label='B', c='magenta')\n",
        "plt.grid()\n",
        "plt.legend()\n",
        "plt.show()"
      ],
      "execution_count": null,
      "outputs": [
        {
          "output_type": "display_data",
          "data": {
            "text/plain": [
              "<Figure size 432x288 with 1 Axes>"
            ],
            "image/png": "[encoded data removed]"
          },
          "metadata": {
            "needs_background": "light"
          }
        }
      ]
    },
    {
      "cell_type": "markdown",
      "source": [
        "Shown below is the graph of the vectors that are computed with its resultant and magnitude. Variables are declared as A with the value of 1,-1 and B with the values 1,5. The Result of the vector can be computed by adding the values of A and B. While magnitude can be computed by taking the square roof of the summation of the resultant. Codes plt.xlim and plt.ylim are used to plot the computed values of vectors. The slope and the angle are also computed through using the conventional formulas. "
      ],
      "metadata": {
        "id": "4Z_Nwvt-sedn"
      }
    },
    {
      "cell_type": "code",
      "metadata": {
        "colab": {
          "base_uri": "https://localhost:8080/",
          "height": 370
        },
        "id": "KZgiMGCEZpJn",
        "outputId": "c4f710bd-30e7-43e3-e74f-714ce7b27156"
      },
      "source": [
        "A = np.array([4, -2])\n",
        "B = np.array([2, 5])\n",
        "R = A + B\n",
        "Magnitude = np.sqrt(np.sum(R**2))\n",
        "plt.title(\"Resultant Vector\\nMagnitude:{}\" .format(Magnitude))\n",
        "plt.xlim(-8, 8)\n",
        "plt.ylim(-8, 8)\n",
        "plt.quiver(0, 0, A[0], A[1], angles='xy', scale_units='xy', scale=1, color='red')\n",
        "plt.quiver(A[0], A[1], B[0], B[1], angles='xy', scale_units='xy', scale=1, color='green')\n",
        "plt.quiver(0, 0, R[0], R[1], angles='xy', scale_units='xy', scale=1, color='black')\n",
        "plt.grid()\n",
        "plt.show()\n",
        "print(R)\n",
        "print(Magnitude)\n",
        "Slope = R[1]/R[0]\n",
        "print(Slope)\n",
        "Angle = (np.arctan(Slope))*(180/np.pi)\n",
        "print(Angle)"
      ],
      "execution_count": null,
      "outputs": [
        {
          "output_type": "display_data",
          "data": {
            "text/plain": [
              "<Figure size 432x288 with 1 Axes>"
            ],
            "image/png": "[encoded data removed]"
          },
          "metadata": {
            "needs_background": "light"
          }
        },
        {
          "output_type": "stream",
          "name": "stdout",
          "text": [
            "[6 3]\n",
            "6.708203932499369\n",
            "0.5\n",
            "26.56505117707799\n"
          ]
        }
      ]
    },
    {
      "cell_type": "markdown",
      "source": [
        "In this part, plotting of vectors is also used. The shape of the array is set to zero. The boundary of the graph was set by using the code plt.xlim with point -10,10 and plt.ylim having the points of -10,10 also. In the first command using the code plt.quiver vector “A” is equal to 1,  in the second one vector A is also 1 while  B is 0 and 1,and in the last the resultant are plotted in points 0 and 1. The result of this part is shown in the graph below:\n"
      ],
      "metadata": {
        "id": "5mNM292Qsh0r"
      }
    },
    {
      "cell_type": "code",
      "metadata": {
        "id": "0NZnAZckHs44",
        "outputId": "6a7da2e2-13da-45bf-9346-2b3c264e81f6",
        "colab": {
          "base_uri": "https://localhost:8080/",
          "height": 268
        }
      },
      "source": [
        "n = A.shape[0]\n",
        "plt.xlim(-10, 10)\n",
        "plt.ylim(-10, 10)\n",
        "plt.quiver(0,0, A[0], A[1], angles='xy', scale_units='xy',scale=1)\n",
        "plt.quiver(A[0],A[1], B[0], B[1], angles='xy', scale_units='xy',scale=1)\n",
        "plt.quiver(0,0, R[0], R[1], angles='xy', scale_units='xy',scale=1)\n",
        "plt.show()"
      ],
      "execution_count": null,
      "outputs": [
        {
          "output_type": "display_data",
          "data": {
            "text/plain": [
              "<Figure size 432x288 with 1 Axes>"
            ],
            "image/png": "[encoded data removed]"
          },
          "metadata": {
            "needs_background": "light"
          }
        }
      ]
    },
    {
      "cell_type": "markdown",
      "metadata": {
        "id": "yWijJqoggcva"
      },
      "source": [
        "Try plotting Three Vectors and show the Resultant Vector as a result.\n",
        "Use Head to Tail Method."
      ]
    },
    {
      "cell_type": "code",
      "metadata": {
        "id": "XCCdqCYngwxx",
        "colab": {
          "base_uri": "https://localhost:8080/",
          "height": 370
        },
        "outputId": "c25ce730-1503-43b4-9b70-632e715830f6"
      },
      "source": [
        "A = np.array([3, 2])\n",
        "B = np.array([0, 1])\n",
        "C = np.array([5,4])\n",
        "S = A + B\n",
        "R = A + B + C\n",
        "Magnitude = np.sqrt(np.sum(R**2))\n",
        "plt.title(\"Resultant Vector\\nMagnitude:{}\" .format(Magnitude))\n",
        "plt.xlim(-6, 6)\n",
        "plt.ylim(-6, 6)\n",
        "plt.quiver(0, 0, A[0], A[1], angles='xy', scale_units='xy', scale=1, color='purple')\n",
        "plt.quiver(A[0], A[1], B[0], B[1], angles='xy', scale_units='xy', scale=1, color='pink')\n",
        "plt.quiver(0, 0, R[0], R[1], angles='xy', scale_units='xy', scale=1, color='violet')\n",
        "\n",
        "plt.quiver(0, 0, R[0], R[1], angles='xy', scale_units='xy', scale=1, color='green')\n",
        "plt.grid()\n",
        "plt.show()\n",
        "print(R)\n",
        "\n",
        "print(Magnitude)\n",
        "Slope = R[1]/R[0]\n",
        "print(Slope)\n",
        "Angle = (np.arctan(Slope))*(180/np.pi)\n",
        "print(Angle)"
      ],
      "execution_count": null,
      "outputs": [
        {
          "output_type": "display_data",
          "data": {
            "text/plain": [
              "<Figure size 432x288 with 1 Axes>"
            ],
            "image/png": "[encoded data removed]"
          },
          "metadata": {
            "needs_background": "light"
          }
        },
        {
          "output_type": "stream",
          "name": "stdout",
          "text": [
            "[8 7]\n",
            "10.63014581273465\n",
            "0.875\n",
            "41.18592516570965\n"
          ]
        }
      ]
    }
  ]
}