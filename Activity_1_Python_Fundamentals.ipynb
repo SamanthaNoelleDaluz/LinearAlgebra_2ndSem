{
  "nbformat": 4,
  "nbformat_minor": 0,
  "metadata": {
    "colab": {
      "name": "Activity 1 - Python Fundamentals",
      "provenance": [],
      "collapsed_sections": [],
      "include_colab_link": true
    },
    "kernelspec": {
      "name": "python3",
      "display_name": "Python 3"
    },
    "language_info": {
      "name": "python"
    }
  },
  "cells": [
    {
      "cell_type": "markdown",
      "metadata": {
        "id": "view-in-github",
        "colab_type": "text"
      },
      "source": [
        "<a href=\"https://colab.research.google.com/github/SamanthaNoelleDaluz/LinearAlgebra_2ndSem/blob/main/Activity_1_Python_Fundamentals.ipynb\" target=\"_parent\"><img src=\"https://colab.research.google.com/assets/colab-badge.svg\" alt=\"Open In Colab\"/></a>"
      ]
    },
    {
      "cell_type": "markdown",
      "source": [
        "# Welcome to Phython Fundamentals\n",
        "In this module, we are going to establish or review our skills in Python programming. In this notebook we are going to cover:\n",
        "* Variable and Data Types\n",
        "* Operations\n",
        "* Input and Output Operations\n",
        "* Logic Control\n",
        "* Iterables\n",
        "* Functions"
      ],
      "metadata": {
        "id": "R4UxfqTNsJUo"
      }
    },
    {
      "cell_type": "markdown",
      "source": [
        "## Variable and Data Types"
      ],
      "metadata": {
        "id": "etOOmRyItmj4"
      }
    },
    {
      "cell_type": "markdown",
      "source": [
        "The first thing to know about coding in Python is that it involves variable and date types.  A variable is a container for a value. It can be assigned a name; you can use it to refer to it later in the program. A data type, on the other hand, is like a class/category where the value assigned belongs to. As seen in this activity, these may involve the use of integer (int), string (str), float, etc."
      ],
      "metadata": {
        "id": "O6N7lE1c-FAP"
      }
    },
    {
      "cell_type": "code",
      "source": [
        "s = 3\n",
        "a,m = 5, 1\n",
        "s,a,m"
      ],
      "metadata": {
        "colab": {
          "base_uri": "https://localhost:8080/"
        },
        "id": "MGDha0m7tr9m",
        "outputId": "826583ac-e39f-40d6-9bea-12909819be82"
      },
      "execution_count": null,
      "outputs": [
        {
          "output_type": "execute_result",
          "data": {
            "text/plain": [
              "(3, 5, 1)"
            ]
          },
          "metadata": {},
          "execution_count": 37
        }
      ]
    },
    {
      "cell_type": "code",
      "source": [
        "type(x)"
      ],
      "metadata": {
        "colab": {
          "base_uri": "https://localhost:8080/"
        },
        "id": "ZdDPI50zuLdV",
        "outputId": "ce7fcce8-7e36-4f40-91b5-c1e0a76f557b"
      },
      "execution_count": null,
      "outputs": [
        {
          "output_type": "execute_result",
          "data": {
            "text/plain": [
              "str"
            ]
          },
          "metadata": {},
          "execution_count": 35
        }
      ]
    },
    {
      "cell_type": "code",
      "source": [
        "y = 1.0\n",
        "type(y)"
      ],
      "metadata": {
        "colab": {
          "base_uri": "https://localhost:8080/"
        },
        "id": "0dbYv81_uSlQ",
        "outputId": "fd2ea7c2-36a3-4137-a4a5-070840fdcb03"
      },
      "execution_count": null,
      "outputs": [
        {
          "output_type": "execute_result",
          "data": {
            "text/plain": [
              "float"
            ]
          },
          "metadata": {},
          "execution_count": 36
        }
      ]
    },
    {
      "cell_type": "code",
      "source": [
        "x = float (x)\n",
        "type (x)"
      ],
      "metadata": {
        "colab": {
          "base_uri": "https://localhost:8080/"
        },
        "id": "lKnibJXFvf6b",
        "outputId": "60bd1223-6f8d-4ac1-ed6a-d7de860503af"
      },
      "execution_count": null,
      "outputs": [
        {
          "output_type": "execute_result",
          "data": {
            "text/plain": [
              "float"
            ]
          },
          "metadata": {},
          "execution_count": 38
        }
      ]
    },
    {
      "cell_type": "code",
      "source": [
        "s,a,m = \"3\", '5', 'one'\n",
        "type(s)"
      ],
      "metadata": {
        "colab": {
          "base_uri": "https://localhost:8080/"
        },
        "id": "lt6YO8jEwn3v",
        "outputId": "a22dc7de-7316-4e3b-e0ab-f0ab375747e2"
      },
      "execution_count": null,
      "outputs": [
        {
          "output_type": "execute_result",
          "data": {
            "text/plain": [
              "str"
            ]
          },
          "metadata": {},
          "execution_count": 2
        }
      ]
    },
    {
      "cell_type": "code",
      "source": [
        "s_int = int(s)\n",
        "s_int"
      ],
      "metadata": {
        "colab": {
          "base_uri": "https://localhost:8080/"
        },
        "id": "XTsCbgXtxWla",
        "outputId": "145b1de6-6a8f-429d-d5c8-1ff70fd128c1"
      },
      "execution_count": null,
      "outputs": [
        {
          "output_type": "execute_result",
          "data": {
            "text/plain": [
              "3"
            ]
          },
          "metadata": {},
          "execution_count": 40
        }
      ]
    },
    {
      "cell_type": "markdown",
      "source": [
        "## Operations"
      ],
      "metadata": {
        "id": "i0NlERTvyBU9"
      }
    },
    {
      "cell_type": "markdown",
      "source": [
        "### Arithmetic"
      ],
      "metadata": {
        "id": "eAgSAUkwyI63"
      }
    },
    {
      "cell_type": "markdown",
      "source": [
        "Based on the results of this function, it is used to perform Mathematical operations such as addition, subtraction, multiplication, and division on numerical values."
      ],
      "metadata": {
        "id": "zgDP10bJJKPG"
      }
    },
    {
      "cell_type": "code",
      "source": [
        "k,u,r,b = 1,2,3,4"
      ],
      "metadata": {
        "id": "yBsfcnebyQUo"
      },
      "execution_count": null,
      "outputs": []
    },
    {
      "cell_type": "code",
      "source": [
        "### Addition\n",
        "S = k + b\n",
        "S"
      ],
      "metadata": {
        "colab": {
          "base_uri": "https://localhost:8080/"
        },
        "id": "4BEmDtlLya9s",
        "outputId": "9f6d4a81-8988-47f4-d08e-1d5a108a7a15"
      },
      "execution_count": null,
      "outputs": [
        {
          "output_type": "execute_result",
          "data": {
            "text/plain": [
              "5"
            ]
          },
          "metadata": {},
          "execution_count": 2
        }
      ]
    },
    {
      "cell_type": "code",
      "source": [
        "### Subtraction\n",
        "P = u - r\n",
        "P"
      ],
      "metadata": {
        "colab": {
          "base_uri": "https://localhost:8080/"
        },
        "id": "tXcWnEKPzwSp",
        "outputId": "0861a948-cf07-47cf-ca98-d8becaea7f94"
      },
      "execution_count": null,
      "outputs": [
        {
          "output_type": "execute_result",
          "data": {
            "text/plain": [
              "-1"
            ]
          },
          "metadata": {},
          "execution_count": 3
        }
      ]
    },
    {
      "cell_type": "code",
      "source": [
        "### Multiplication\n",
        "O = r*u\n",
        "O"
      ],
      "metadata": {
        "colab": {
          "base_uri": "https://localhost:8080/"
        },
        "id": "ZH6vHTiCz-Gb",
        "outputId": "02e5f3fd-0dc6-4c92-f5b1-81d97cce7c5d"
      },
      "execution_count": null,
      "outputs": [
        {
          "output_type": "execute_result",
          "data": {
            "text/plain": [
              "6"
            ]
          },
          "metadata": {},
          "execution_count": 4
        }
      ]
    },
    {
      "cell_type": "code",
      "source": [
        "### Division\n",
        "Y = b/u\n",
        "Y\n"
      ],
      "metadata": {
        "colab": {
          "base_uri": "https://localhost:8080/"
        },
        "id": "4mxoO-Gv0HJx",
        "outputId": "5905e375-fa98-46a3-dc49-c0e4198771d0"
      },
      "execution_count": null,
      "outputs": [
        {
          "output_type": "execute_result",
          "data": {
            "text/plain": [
              "2.0"
            ]
          },
          "metadata": {},
          "execution_count": 5
        }
      ]
    },
    {
      "cell_type": "code",
      "source": [
        "### Floor Division\n",
        "Fg = k//u\n",
        "Fg"
      ],
      "metadata": {
        "colab": {
          "base_uri": "https://localhost:8080/"
        },
        "id": "9kf-Z08H0b83",
        "outputId": "3443e7ef-59d4-492f-8e61-5a913460252a"
      },
      "execution_count": null,
      "outputs": [
        {
          "output_type": "execute_result",
          "data": {
            "text/plain": [
              "0"
            ]
          },
          "metadata": {},
          "execution_count": 6
        }
      ]
    },
    {
      "cell_type": "code",
      "source": [
        "### Exponential\n",
        "Lk = r**b\n",
        "Lk"
      ],
      "metadata": {
        "colab": {
          "base_uri": "https://localhost:8080/"
        },
        "id": "2YOJHJ5f0rVg",
        "outputId": "f1f518d8-c31a-45c7-dde2-2b06a766628f"
      },
      "execution_count": null,
      "outputs": [
        {
          "output_type": "execute_result",
          "data": {
            "text/plain": [
              "81"
            ]
          },
          "metadata": {},
          "execution_count": 7
        }
      ]
    },
    {
      "cell_type": "code",
      "source": [
        "### Modulo\n",
        "mod = b%k\n",
        "mod"
      ],
      "metadata": {
        "colab": {
          "base_uri": "https://localhost:8080/"
        },
        "id": "bCtqqc-11BUz",
        "outputId": "62a35d54-4823-460e-fedd-233970530ce0"
      },
      "execution_count": null,
      "outputs": [
        {
          "output_type": "execute_result",
          "data": {
            "text/plain": [
              "0"
            ]
          },
          "metadata": {},
          "execution_count": 8
        }
      ]
    },
    {
      "cell_type": "markdown",
      "source": [
        "### Assignment Operations"
      ],
      "metadata": {
        "id": "NujiiAgv1jXA"
      }
    },
    {
      "cell_type": "markdown",
      "source": [
        "As seen in the activity, operators are used to perform operations on values and variables and to assign values to variables. Values were, first, assigned to a variable. Then, using compound operators, Python will use that operator to get the equivalent answer using the given operands.\n"
      ],
      "metadata": {
        "id": "OkiaLQY2JMjo"
      }
    },
    {
      "cell_type": "code",
      "source": [
        "G, H, J, K = 0, 100, 2, 2"
      ],
      "metadata": {
        "id": "CrA-3tXm1oiN"
      },
      "execution_count": null,
      "outputs": []
    },
    {
      "cell_type": "code",
      "source": [
        "G += K\n",
        "G"
      ],
      "metadata": {
        "colab": {
          "base_uri": "https://localhost:8080/"
        },
        "id": "3nCF3TPi1yG-",
        "outputId": "aadb0d4a-df80-4c5f-b83f-28ea232710b1"
      },
      "execution_count": null,
      "outputs": [
        {
          "output_type": "execute_result",
          "data": {
            "text/plain": [
              "2"
            ]
          },
          "metadata": {},
          "execution_count": 10
        }
      ]
    },
    {
      "cell_type": "code",
      "source": [
        "H -= u\n",
        "H"
      ],
      "metadata": {
        "colab": {
          "base_uri": "https://localhost:8080/"
        },
        "id": "_IbX_wU7119g",
        "outputId": "6565abcc-32bf-4c3f-fd12-96a610892f01"
      },
      "execution_count": null,
      "outputs": [
        {
          "output_type": "execute_result",
          "data": {
            "text/plain": [
              "98"
            ]
          },
          "metadata": {},
          "execution_count": 11
        }
      ]
    },
    {
      "cell_type": "code",
      "source": [
        "J *= 8\n",
        "J"
      ],
      "metadata": {
        "colab": {
          "base_uri": "https://localhost:8080/"
        },
        "id": "RjJn4SiL2p2q",
        "outputId": "0db005ac-7208-4992-bb90-b1d78eab77c4"
      },
      "execution_count": null,
      "outputs": [
        {
          "output_type": "execute_result",
          "data": {
            "text/plain": [
              "16"
            ]
          },
          "metadata": {},
          "execution_count": 12
        }
      ]
    },
    {
      "cell_type": "code",
      "source": [
        "K **= 3\n",
        "K"
      ],
      "metadata": {
        "colab": {
          "base_uri": "https://localhost:8080/"
        },
        "id": "SJKFt5kO3Ej3",
        "outputId": "767c35ac-b147-4f2e-a2eb-55e60adac3e2"
      },
      "execution_count": null,
      "outputs": [
        {
          "output_type": "execute_result",
          "data": {
            "text/plain": [
              "8"
            ]
          },
          "metadata": {},
          "execution_count": 13
        }
      ]
    },
    {
      "cell_type": "markdown",
      "source": [
        "###Comparators"
      ],
      "metadata": {
        "id": "ZLfKg_gS3Whz"
      }
    },
    {
      "cell_type": "markdown",
      "source": [
        "This function is used to compare the true value or the value set and the value that was entered based on the operators used."
      ],
      "metadata": {
        "id": "ptqARgdVOfzQ"
      }
    },
    {
      "cell_type": "code",
      "source": [
        "res_1, res_2, res_3 = 1, 2.0, \"1\"\n",
        "true_val = 1.0"
      ],
      "metadata": {
        "id": "y8FkBNMj3b9D"
      },
      "execution_count": null,
      "outputs": []
    },
    {
      "cell_type": "code",
      "source": [
        "## Equality\n",
        "res_3 == true_val"
      ],
      "metadata": {
        "colab": {
          "base_uri": "https://localhost:8080/"
        },
        "id": "94buoHPM3sBq",
        "outputId": "ff13353d-6643-4da6-fd8c-6edf2485523f"
      },
      "execution_count": null,
      "outputs": [
        {
          "output_type": "execute_result",
          "data": {
            "text/plain": [
              "False"
            ]
          },
          "metadata": {},
          "execution_count": 15
        }
      ]
    },
    {
      "cell_type": "code",
      "source": [
        "## Non-equality\n",
        "res_2 != true_val"
      ],
      "metadata": {
        "colab": {
          "base_uri": "https://localhost:8080/"
        },
        "id": "iLC-GPSl3zQv",
        "outputId": "dd39daef-7ffa-45d9-aa75-dbf4a2edc57c"
      },
      "execution_count": null,
      "outputs": [
        {
          "output_type": "execute_result",
          "data": {
            "text/plain": [
              "True"
            ]
          },
          "metadata": {},
          "execution_count": 16
        }
      ]
    },
    {
      "cell_type": "code",
      "source": [
        "## Inequality\n",
        "t1 = res_1 > res_2\n",
        "t2 = res_1 < res_2/2\n",
        "t3 = res_1 >= res_2/2\n",
        "t4 = res_1 <= res_2\n",
        "t4"
      ],
      "metadata": {
        "colab": {
          "base_uri": "https://localhost:8080/"
        },
        "id": "afV9rEMa4Beb",
        "outputId": "bee8b3b1-9645-4cc9-fb38-9289a4728ef0"
      },
      "execution_count": null,
      "outputs": [
        {
          "output_type": "execute_result",
          "data": {
            "text/plain": [
              "True"
            ]
          },
          "metadata": {},
          "execution_count": 17
        }
      ]
    },
    {
      "cell_type": "markdown",
      "source": [
        "# Logical"
      ],
      "metadata": {
        "id": "bS4omgwa5SHp"
      }
    },
    {
      "cell_type": "markdown",
      "source": [
        "Logical operators in Python are used for conditional statements which are true and false. Specifically, it uses AND, OR and NOT as operators that each follows a certain condition. The AND operator returns TRUE if both the operands are true, the OR operator returns TRUE if either of the operand is true, while the NOT operator returns TRUE if operand is false."
      ],
      "metadata": {
        "id": "ipMqVKa7KWSJ"
      }
    },
    {
      "cell_type": "code",
      "source": [
        "res_1 == true_val"
      ],
      "metadata": {
        "colab": {
          "base_uri": "https://localhost:8080/"
        },
        "id": "-71oPU1P5ax_",
        "outputId": "34e95db3-4b4e-4202-c71c-83c156300dcd"
      },
      "execution_count": null,
      "outputs": [
        {
          "output_type": "execute_result",
          "data": {
            "text/plain": [
              "True"
            ]
          },
          "metadata": {},
          "execution_count": 18
        }
      ]
    },
    {
      "cell_type": "code",
      "source": [
        "res_1 is true_val"
      ],
      "metadata": {
        "colab": {
          "base_uri": "https://localhost:8080/"
        },
        "id": "PXL3WCqh5hbV",
        "outputId": "f4ff9be9-ddb1-4444-9ba9-b3615210ec06"
      },
      "execution_count": null,
      "outputs": [
        {
          "output_type": "execute_result",
          "data": {
            "text/plain": [
              "False"
            ]
          },
          "metadata": {},
          "execution_count": 19
        }
      ]
    },
    {
      "cell_type": "code",
      "source": [
        "res_1 is not true_val"
      ],
      "metadata": {
        "colab": {
          "base_uri": "https://localhost:8080/"
        },
        "id": "eLQ90QJX5s59",
        "outputId": "a0459094-362c-4801-8791-a40e4bccfbbe"
      },
      "execution_count": null,
      "outputs": [
        {
          "output_type": "execute_result",
          "data": {
            "text/plain": [
              "True"
            ]
          },
          "metadata": {},
          "execution_count": 20
        }
      ]
    },
    {
      "cell_type": "code",
      "source": [
        "p, q = True, False\n",
        "conj = p and q\n",
        "conj"
      ],
      "metadata": {
        "colab": {
          "base_uri": "https://localhost:8080/"
        },
        "id": "9ARmM7sO6Usw",
        "outputId": "402752f8-7398-49e3-940b-a060d1f7fd90"
      },
      "execution_count": null,
      "outputs": [
        {
          "output_type": "execute_result",
          "data": {
            "text/plain": [
              "False"
            ]
          },
          "metadata": {},
          "execution_count": 21
        }
      ]
    },
    {
      "cell_type": "code",
      "source": [
        "p,q = True, False\n",
        "disj = p or q\n",
        "disj"
      ],
      "metadata": {
        "colab": {
          "base_uri": "https://localhost:8080/"
        },
        "id": "La9XRvQ-7E3W",
        "outputId": "af7fcd05-5dbd-4aa3-a2f0-db0fb9d3ba50"
      },
      "execution_count": null,
      "outputs": [
        {
          "output_type": "execute_result",
          "data": {
            "text/plain": [
              "True"
            ]
          },
          "metadata": {},
          "execution_count": 22
        }
      ]
    },
    {
      "cell_type": "code",
      "source": [
        "p,q = True, False\n",
        "nand = not(p and q)\n",
        "nand"
      ],
      "metadata": {
        "colab": {
          "base_uri": "https://localhost:8080/"
        },
        "id": "vJaiR94M7OkI",
        "outputId": "8149284a-37d6-43d4-80df-052f2d4a92a2"
      },
      "execution_count": null,
      "outputs": [
        {
          "output_type": "execute_result",
          "data": {
            "text/plain": [
              "True"
            ]
          },
          "metadata": {},
          "execution_count": 23
        }
      ]
    },
    {
      "cell_type": "code",
      "source": [
        "p,q = True, False\n",
        "xor = (not p and q) or (p and not q)\n",
        "xor"
      ],
      "metadata": {
        "colab": {
          "base_uri": "https://localhost:8080/"
        },
        "id": "Ri0FPemS7cz1",
        "outputId": "283f1991-a516-42a4-ebfc-3d971e9b8470"
      },
      "execution_count": null,
      "outputs": [
        {
          "output_type": "execute_result",
          "data": {
            "text/plain": [
              "True"
            ]
          },
          "metadata": {},
          "execution_count": 24
        }
      ]
    },
    {
      "cell_type": "markdown",
      "source": [
        "### I/O"
      ],
      "metadata": {
        "id": "UeD3MC697wyk"
      }
    },
    {
      "cell_type": "markdown",
      "source": [
        "Input function is use to enter data at run time while the output is used to display the result. In this function the command print is used to display the phrase that was entered."
      ],
      "metadata": {
        "id": "smpou26rOiVg"
      }
    },
    {
      "cell_type": "code",
      "source": [
        "print(\"Hello World\")"
      ],
      "metadata": {
        "colab": {
          "base_uri": "https://localhost:8080/"
        },
        "id": "GGsGxq4M73Xq",
        "outputId": "f03c7d44-811f-4eff-e539-1080f7f6b4c4"
      },
      "execution_count": null,
      "outputs": [
        {
          "output_type": "stream",
          "name": "stdout",
          "text": [
            "Hello World\n"
          ]
        }
      ]
    },
    {
      "cell_type": "code",
      "source": [
        "cnt = 1"
      ],
      "metadata": {
        "id": "-3NfIU_j7_-n"
      },
      "execution_count": null,
      "outputs": []
    },
    {
      "cell_type": "code",
      "source": [
        "string = \"Hello World\"\n",
        "print(string, \", Current run count is:\", cnt)\n",
        "cnt += 2"
      ],
      "metadata": {
        "colab": {
          "base_uri": "https://localhost:8080/"
        },
        "id": "sxKq5iI78OOn",
        "outputId": "82b837d1-5bf0-41c7-8dd7-2e0d6a1081ea"
      },
      "execution_count": null,
      "outputs": [
        {
          "output_type": "stream",
          "name": "stdout",
          "text": [
            "Hello World , Current run count is: 1\n"
          ]
        }
      ]
    },
    {
      "cell_type": "code",
      "source": [
        "print(f\"{string}, Current count is: {cnt}\")"
      ],
      "metadata": {
        "colab": {
          "base_uri": "https://localhost:8080/"
        },
        "id": "VeUUVtr58-Nl",
        "outputId": "921645c1-c453-413f-e255-7e174be0a528"
      },
      "execution_count": null,
      "outputs": [
        {
          "output_type": "stream",
          "name": "stdout",
          "text": [
            "Hello World, Current count is: 3\n"
          ]
        }
      ]
    },
    {
      "cell_type": "code",
      "source": [
        "sem_grade = 82.243564567461234\n",
        "name = \"Sam\"\n",
        "print(\"Hello {}, your semestral grade is : {}\".format(name, sem_grade))"
      ],
      "metadata": {
        "colab": {
          "base_uri": "https://localhost:8080/"
        },
        "id": "4kxBL7TV9SWn",
        "outputId": "ac2c7925-49b2-4d4d-8038-f80bc89c9584"
      },
      "execution_count": null,
      "outputs": [
        {
          "output_type": "stream",
          "name": "stdout",
          "text": [
            "Hello Sam, your semestral grade is : 82.24356456746123\n"
          ]
        }
      ]
    },
    {
      "cell_type": "code",
      "source": [
        "w_pg, w_mg, w_fg = 0.3, 0.3, 0.4\n",
        "print(\"The weights of your semestral grades are:\\\n",
        "\\n\\t{:.2%} for Prelims\\\n",
        "\\n\\t{:.2%} for Midterms, and\\\n",
        "\\n\\t{:.2%} for Finals.\".format(w_pg, w_mg, w_fg))"
      ],
      "metadata": {
        "id": "RkVAZMpV98WU",
        "colab": {
          "base_uri": "https://localhost:8080/"
        },
        "outputId": "c671e9d8-aaaa-471f-8a00-64e376228507"
      },
      "execution_count": null,
      "outputs": [
        {
          "output_type": "stream",
          "name": "stdout",
          "text": [
            "The weights of your semestral grades are:\n",
            "\t30.00% for Prelims\n",
            "\t30.00% for Midterms, and\n",
            "\t40.00% for Finals.\n"
          ]
        }
      ]
    },
    {
      "cell_type": "code",
      "source": [
        "x = input(\"enter a number: \")\n",
        "x"
      ],
      "metadata": {
        "id": "B9jSW5_5tzv3",
        "colab": {
          "base_uri": "https://localhost:8080/",
          "height": 53
        },
        "outputId": "6718f590-d351-4c16-9697-221fa54a45a0"
      },
      "execution_count": null,
      "outputs": [
        {
          "name": "stdout",
          "output_type": "stream",
          "text": [
            "enter a number: 13\n"
          ]
        },
        {
          "output_type": "execute_result",
          "data": {
            "application/vnd.google.colaboratory.intrinsic+json": {
              "type": "string"
            },
            "text/plain": [
              "'13'"
            ]
          },
          "metadata": {},
          "execution_count": 11
        }
      ]
    },
    {
      "cell_type": "code",
      "source": [
        "name = input(\"Kimi no nawa: \")\n",
        "pg = input(\"Enter prelim grade: \")\n",
        "mg = input(\"Enter midterm grade: \")\n",
        "fg = input(\"Enter finals grade: \")\n",
        "sem_grade = None\n",
        "print(\"Hello {}, your semestral grade is: {}\".format(name, sem_grade))"
      ],
      "metadata": {
        "id": "JLPLGRSFuNbz",
        "colab": {
          "base_uri": "https://localhost:8080/"
        },
        "outputId": "908e2e2a-13ab-4a7e-b2cd-862868d771c0"
      },
      "execution_count": null,
      "outputs": [
        {
          "output_type": "stream",
          "name": "stdout",
          "text": [
            "Kimi no nawa: Sam\n",
            "Enter prelim grade: 90\n",
            "Enter midterm grade: 98\n",
            "Enter finals grade: 97\n",
            "Hello Sam, your semestral grade is: None\n"
          ]
        }
      ]
    },
    {
      "cell_type": "markdown",
      "source": [
        "# Looping Statements"
      ],
      "metadata": {
        "id": "agAae8yzvq0q"
      }
    },
    {
      "cell_type": "markdown",
      "source": [
        "## While"
      ],
      "metadata": {
        "id": "7NQc9T4yv3xO"
      }
    },
    {
      "cell_type": "markdown",
      "source": [
        "While loop is used to execute a set of statements as long as a condition is true. First, it requires relevant variables to be ready. In this activity, the indexing variable, i, is set to 1 and the condition is set to stop if i becomes less than or greater than 10, thus, the program will keep on printing until it satisfies the condition."
      ],
      "metadata": {
        "id": "w5mdYodTKZrB"
      }
    },
    {
      "cell_type": "code",
      "source": [
        "## while loops\n",
        "i, j = 0, 10\n",
        "while(i<=j):\n",
        "  print(f\"{i}\\t|\\t{j}\")\n",
        "  i+=1"
      ],
      "metadata": {
        "colab": {
          "base_uri": "https://localhost:8080/"
        },
        "id": "CnocM1pzv6L5",
        "outputId": "b8f81b97-219f-4a42-9934-ca1a19441c27"
      },
      "execution_count": null,
      "outputs": [
        {
          "output_type": "stream",
          "name": "stdout",
          "text": [
            "0\t|\t10\n",
            "1\t|\t10\n",
            "2\t|\t10\n",
            "3\t|\t10\n",
            "4\t|\t10\n",
            "5\t|\t10\n",
            "6\t|\t10\n",
            "7\t|\t10\n",
            "8\t|\t10\n",
            "9\t|\t10\n",
            "10\t|\t10\n"
          ]
        }
      ]
    },
    {
      "cell_type": "markdown",
      "source": [
        "## For\n"
      ],
      "metadata": {
        "id": "ylDgYio3xm8h"
      }
    },
    {
      "cell_type": "markdown",
      "source": [
        "The \"for\" function is used to repeat a block of code entered in a fixed number of times. The block of code entered can be increased by using the command ++ or decreased --."
      ],
      "metadata": {
        "id": "kbL1kebiOlze"
      }
    },
    {
      "cell_type": "code",
      "source": [
        "# for (int i=0; i<10, i++){\n",
        "#    printf(i)\n",
        "#}\n",
        "i=0\n",
        "for i in range(10):\n",
        "  print(i)"
      ],
      "metadata": {
        "colab": {
          "base_uri": "https://localhost:8080/"
        },
        "id": "OYEHTBcpxoyz",
        "outputId": "51d29f30-ade3-4384-8004-762bef7539b8"
      },
      "execution_count": null,
      "outputs": [
        {
          "output_type": "stream",
          "name": "stdout",
          "text": [
            "0\n",
            "1\n",
            "2\n",
            "3\n",
            "4\n",
            "5\n",
            "6\n",
            "7\n",
            "8\n",
            "9\n"
          ]
        }
      ]
    },
    {
      "cell_type": "code",
      "source": [
        "playlist = [\"Easy on Me\",\"In my Mind\",\"Love Nwantiti\"]\n",
        "print('Now Playing:\\n')\n",
        "for song in playlist:\n",
        "  print(song)"
      ],
      "metadata": {
        "colab": {
          "base_uri": "https://localhost:8080/"
        },
        "id": "VnpchhT-yLjG",
        "outputId": "952a9cee-bb2f-4699-fe55-f020fa7d0c03"
      },
      "execution_count": null,
      "outputs": [
        {
          "output_type": "stream",
          "name": "stdout",
          "text": [
            "Now Playing:\n",
            "\n",
            "Easy on Me\n",
            "In my Mind\n",
            "Love Nwantiti\n"
          ]
        }
      ]
    },
    {
      "cell_type": "markdown",
      "source": [
        "# Flow Control"
      ],
      "metadata": {
        "id": "vTzYww3eyqd0"
      }
    },
    {
      "cell_type": "markdown",
      "source": [
        "## Conditional Statements"
      ],
      "metadata": {
        "id": "oA6ZbjObyuWR"
      }
    },
    {
      "cell_type": "markdown",
      "source": [
        "Conditional Statements are used as a Decision-making program in Python. It uses conditional statements such as If, elif, else, and many more in which the code would be evaluated if it meets the specified conditions. The conditions should be answerable with YES or NO only. "
      ],
      "metadata": {
        "id": "Qs9aLYCNKcno"
      }
    },
    {
      "cell_type": "code",
      "source": [
        "numeral1, numeral2 = 12, 11\n",
        "if(numeral1 == numeral2):\n",
        "  print(\"Woof\")\n",
        "elif(numeral1>numeral2):\n",
        "  print(\"Meow\")\n",
        "else:\n",
        "    print(\"Awoo\")"
      ],
      "metadata": {
        "colab": {
          "base_uri": "https://localhost:8080/"
        },
        "id": "uDlUtUTBy28_",
        "outputId": "357b6046-2074-442b-b163-380eb22a23c8"
      },
      "execution_count": null,
      "outputs": [
        {
          "output_type": "stream",
          "name": "stdout",
          "text": [
            "Meow\n"
          ]
        }
      ]
    },
    {
      "cell_type": "markdown",
      "source": [
        "## Functions"
      ],
      "metadata": {
        "id": "O6zOXcZc12wR"
      }
    },
    {
      "cell_type": "markdown",
      "source": [
        "The function is used to return a value using a return a value using a return statement. After a function is defined, the return statement will determine the value to be returned."
      ],
      "metadata": {
        "id": "sMQpkrExOrg-"
      }
    },
    {
      "cell_type": "code",
      "source": [
        "# void DeleteUser(int userid){\n",
        "# delete(userid);    \n",
        "#}\n",
        "\n",
        "def delete_user (userid):\n",
        "  print(\"Successfully deleted user: {}\".format(userid))\n",
        "def delete_all_users():\n",
        "  print(\"All users are deleted\")"
      ],
      "metadata": {
        "id": "s8WLAMax3lkT"
      },
      "execution_count": null,
      "outputs": []
    },
    {
      "cell_type": "code",
      "source": [
        "userid = \"Sam\"\n",
        "delete_user(\"Sam\")\n",
        "delete_all_users()"
      ],
      "metadata": {
        "id": "RKfdeGq73oCd",
        "colab": {
          "base_uri": "https://localhost:8080/"
        },
        "outputId": "db5c72a7-70a4-4e11-fb74-aa33a670af24"
      },
      "execution_count": null,
      "outputs": [
        {
          "output_type": "stream",
          "name": "stdout",
          "text": [
            "Successfully deleted user: Sam\n",
            "All users are deleted\n"
          ]
        }
      ]
    },
    {
      "cell_type": "code",
      "source": [
        "def add(addend1, addend2):\n",
        "    return addend1 + addend2\n",
        "\n",
        "def power_of_base2(exponent):\n",
        "    return 2**exponent"
      ],
      "metadata": {
        "id": "tIWRO6EC3hlv"
      },
      "execution_count": null,
      "outputs": []
    },
    {
      "cell_type": "code",
      "source": [
        "addend1, addend2 = 24, 25\n",
        "add(addend1, addend2)\n",
        "\n",
        "exponent = 8\n",
        "power_of_base2 (exponent)"
      ],
      "metadata": {
        "id": "57KSSLF34AsR",
        "colab": {
          "base_uri": "https://localhost:8080/"
        },
        "outputId": "bbecebfe-c7c3-4745-f50f-bb4861cba212"
      },
      "execution_count": null,
      "outputs": [
        {
          "output_type": "execute_result",
          "data": {
            "text/plain": [
              "256"
            ]
          },
          "metadata": {},
          "execution_count": 21
        }
      ]
    },
    {
      "cell_type": "markdown",
      "source": [
        "# Activity 1"
      ],
      "metadata": {
        "id": "5aBpI0g4OHdK"
      }
    },
    {
      "cell_type": "markdown",
      "source": [
        "In this activity, we are tasked to generate a calculator that can compute the semestral grade using the inputted value of the prelim, midterm, and final grade. At the same time, it should display the inputted name and course. This code was executed by assigning variables and by using functions float, print, and input, operators, and conditional statements."
      ],
      "metadata": {
        "id": "9eWHBDPXOv8Y"
      }
    },
    {
      "cell_type": "code",
      "source": [
        "w_pg, w_mg, w_fg = 0.3, 0.3, 0.4\n",
        "name = input(\"Enter your name: \")\n",
        "course = input(\"Enter your course: \")\n",
        "pg = float(input(\"Enter prelim grade: \"))\n",
        "mg = float(input(\"Enter midterm grade: \"))\n",
        "fg = float(input(\"Enter finals grade: \"))\n",
        "sem_grade = (pg*w_pg)+(mg*w_mg)+(fg*w_fg)\n",
        "if(sem_grade > 70.00):\n",
        "      print(\"Hello {} from {}, your semestral grade is: {} \\U0001F600\".format(name, course, round(sem_grade, 2)))\n",
        "elif(sem_grade == 70.00):\n",
        "      print(\"Hello {} from {}, your semestral grade is: {} \\U0001F606\".format(name, course, round(sem_grade, 2)))\n",
        "else:\n",
        "      print(\"Hello {} from {}, your semestral grade is: {} \\U0001F62D\".format(name, course, round(sem_grade, 2)))"
      ],
      "metadata": {
        "colab": {
          "base_uri": "https://localhost:8080/"
        },
        "id": "rV1VUtQi3PiL",
        "outputId": "5b82ea97-232b-40fe-ed0c-5222e776aa9e"
      },
      "execution_count": null,
      "outputs": [
        {
          "output_type": "stream",
          "name": "stdout",
          "text": [
            "Enter your name: Samantha\n",
            "Enter your course: BS Chem\n",
            "Enter prelim grade: 90\n",
            "Enter midterm grade: 98\n",
            "Enter finals grade: 97\n",
            "Hello Samantha from BS Chem, your semestral grade is: 95.2 😀\n"
          ]
        }
      ]
    }
  ]
}