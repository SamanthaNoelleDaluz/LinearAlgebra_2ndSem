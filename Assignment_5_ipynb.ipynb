{
  "nbformat": 4,
  "nbformat_minor": 0,
  "metadata": {
    "colab": {
      "name": "Assignment 5 ipynb",
      "provenance": [],
      "collapsed_sections": [],
      "authorship_tag": "ABX9TyNFzRCQGtuT4ldim8r0+rSN",
      "include_colab_link": true
    },
    "kernelspec": {
      "name": "python3",
      "display_name": "Python 3"
    },
    "language_info": {
      "name": "python"
    }
  },
  "cells": [
    {
      "cell_type": "markdown",
      "metadata": {
        "id": "view-in-github",
        "colab_type": "text"
      },
      "source": [
        "<a href=\"https://colab.research.google.com/github/SamanthaNoelleDaluz/LinearAlgebra_2ndSem/blob/main/Assignment_5_ipynb.ipynb\" target=\"_parent\"><img src=\"https://colab.research.google.com/assets/colab-badge.svg\" alt=\"Open In Colab\"/></a>"
      ]
    },
    {
      "cell_type": "markdown",
      "source": [
        "## Laboratory 6 : Matrix Operations"
      ],
      "metadata": {
        "id": "twkZIjSA9QN4"
      }
    },
    {
      "cell_type": "markdown",
      "source": [
        "Now that you have a fundamental knowledge about representing and operating with vectors as well as the fundamentals of matrices, we'll try to the same operations with matrices and even more."
      ],
      "metadata": {
        "id": "cIeKMkYa9YSH"
      }
    },
    {
      "cell_type": "markdown",
      "source": [
        "## Objectives\n",
        "At the end of this activity you will be able to:\n",
        "1. Be familiar with the fundamental matrix operations.\n",
        "2. Apply the operations to solve intemrediate equations.\n",
        "3. Apply matrix algebra in engineering solutions."
      ],
      "metadata": {
        "id": "-ivLRlvs9Zdf"
      }
    },
    {
      "cell_type": "markdown",
      "source": [
        "## Discussion"
      ],
      "metadata": {
        "id": "vTd5Xj0e9dyD"
      }
    },
    {
      "cell_type": "code",
      "source": [
        "import numpy as np\n",
        "import matplotlib.pyplot as plt\n",
        "%matplotlib inline"
      ],
      "metadata": {
        "id": "e12jGLGw9hkP"
      },
      "execution_count": 2,
      "outputs": []
    },
    {
      "cell_type": "markdown",
      "source": [
        "## Transposition"
      ],
      "metadata": {
        "id": "it-TOxnk9kRj"
      }
    },
    {
      "cell_type": "markdown",
      "source": [
        "The transpose of a matrix is obtained by transferring the data from the rows to the columns and the data from the columns to the rows. If we have an array of shape (X, Y), the array's transposition will have the same shape (Y, X)."
      ],
      "metadata": {
        "id": "_wakJzO-9lvx"
      }
    },
    {
      "cell_type": "markdown",
      "source": [
        "$$A = \\begin{bmatrix} 1 & 2 & 3\\\\4 & 5 &6 \\\\ 7 & 8 & 9\\end{bmatrix} $$"
      ],
      "metadata": {
        "id": "64KQmI6k9pcV"
      }
    },
    {
      "cell_type": "markdown",
      "source": [
        "$$ A^T = \\begin{bmatrix} 1 & 4 & 7\\\\2 & 5 & 8 \\\\ 3 & 6 & 9\\end{bmatrix}$$"
      ],
      "metadata": {
        "id": "NkCml_P49qt2"
      }
    },
    {
      "cell_type": "markdown",
      "source": [
        "This can now be achieved programmatically by using `np.transpose()` or using the `T` method."
      ],
      "metadata": {
        "id": "4A0SfamH9unW"
      }
    },
    {
      "cell_type": "code",
      "source": [
        "A = np.array([\n",
        "    [1 ,2, 3],\n",
        "    [4, 5, 6],\n",
        "    [7, 8, 9]\n",
        "])\n",
        "A"
      ],
      "metadata": {
        "colab": {
          "base_uri": "https://localhost:8080/",
          "height": 0
        },
        "id": "BWWAGnmy9kxD",
        "outputId": "1fe9372b-f535-4054-d948-3d521b7c8b49"
      },
      "execution_count": 3,
      "outputs": [
        {
          "output_type": "execute_result",
          "data": {
            "text/plain": [
              "array([[1, 2, 3],\n",
              "       [4, 5, 6],\n",
              "       [7, 8, 9]])"
            ]
          },
          "metadata": {},
          "execution_count": 3
        }
      ]
    },
    {
      "cell_type": "code",
      "source": [
        "AT1 = np.transpose(A)\n",
        "AT1"
      ],
      "metadata": {
        "id": "mYFsrnq-9xg8",
        "colab": {
          "base_uri": "https://localhost:8080/",
          "height": 0
        },
        "outputId": "4a2434dc-385e-457f-f4f2-522a1231ef3d"
      },
      "execution_count": 4,
      "outputs": [
        {
          "output_type": "execute_result",
          "data": {
            "text/plain": [
              "array([[1, 4, 7],\n",
              "       [2, 5, 8],\n",
              "       [3, 6, 9]])"
            ]
          },
          "metadata": {},
          "execution_count": 4
        }
      ]
    },
    {
      "cell_type": "code",
      "source": [
        "AT2 = A.T\n",
        "AT2"
      ],
      "metadata": {
        "id": "5jny9rkX9y-r",
        "colab": {
          "base_uri": "https://localhost:8080/",
          "height": 0
        },
        "outputId": "9880792c-3bcf-4d0a-8a60-2eb91e891fea"
      },
      "execution_count": 8,
      "outputs": [
        {
          "output_type": "execute_result",
          "data": {
            "text/plain": [
              "array([[1, 4, 7],\n",
              "       [2, 5, 8],\n",
              "       [3, 6, 9]])"
            ]
          },
          "metadata": {},
          "execution_count": 8
        }
      ]
    },
    {
      "cell_type": "code",
      "source": [
        "np.array_equiv(AT1, AT2)"
      ],
      "metadata": {
        "colab": {
          "base_uri": "https://localhost:8080/",
          "height": 0
        },
        "id": "dL2kEHT191Vf",
        "outputId": "af3b6454-50d9-453a-ee15-2369a8e91c15"
      },
      "execution_count": 6,
      "outputs": [
        {
          "output_type": "execute_result",
          "data": {
            "text/plain": [
              "True"
            ]
          },
          "metadata": {},
          "execution_count": 6
        }
      ]
    },
    {
      "cell_type": "code",
      "source": [
        "B = np.array([\n",
        "    [1,2,3,4,0],\n",
        "    [5,6,7,8,0],\n",
        "])\n",
        "B.shape"
      ],
      "metadata": {
        "colab": {
          "base_uri": "https://localhost:8080/"
        },
        "id": "yy5-ig6S91cN",
        "outputId": "d234e134-1a2d-4a36-b919-b8d227829539"
      },
      "execution_count": null,
      "outputs": [
        {
          "output_type": "execute_result",
          "data": {
            "text/plain": [
              "(2, 5)"
            ]
          },
          "metadata": {},
          "execution_count": 52
        }
      ]
    },
    {
      "cell_type": "code",
      "source": [
        "np.transpose(B).shape"
      ],
      "metadata": {
        "colab": {
          "base_uri": "https://localhost:8080/"
        },
        "id": "AqnpDBbC91lA",
        "outputId": "b33669f2-f2dc-4a4e-fb8b-ac445da8a0dd"
      },
      "execution_count": null,
      "outputs": [
        {
          "output_type": "execute_result",
          "data": {
            "text/plain": [
              "(5, 2)"
            ]
          },
          "metadata": {},
          "execution_count": 53
        }
      ]
    },
    {
      "cell_type": "code",
      "source": [
        "B.T.shape"
      ],
      "metadata": {
        "colab": {
          "base_uri": "https://localhost:8080/"
        },
        "id": "LexSQ03c96sx",
        "outputId": "ab8ad2a6-b700-4f27-a229-12209750b964"
      },
      "execution_count": null,
      "outputs": [
        {
          "output_type": "execute_result",
          "data": {
            "text/plain": [
              "(5, 2)"
            ]
          },
          "metadata": {},
          "execution_count": 54
        }
      ]
    },
    {
      "cell_type": "markdown",
      "source": [
        "## Dot Product / Inner Product"
      ],
      "metadata": {
        "id": "fRL0sgjr-V8P"
      }
    },
    {
      "cell_type": "markdown",
      "source": [
        "This function returns the dot product of two arrays. It's the same as matrix multiplication for 2-D vectors. It is the inner product of the vectors for 1-D arrays. It is a sum-product over the last axis of a and the second-last axis of b for N-dimensional arrays."
      ],
      "metadata": {
        "id": "k4ctOnEWAXDz"
      }
    },
    {
      "cell_type": "markdown",
      "source": [
        "If you recall the dot product from laboratory activity before, we will try to implement the same operation with matrices. In matrix dot product we are going to get the sum of products of the vectors by row-column pairs. So if we have two matrices $X$ and $Y$:\n",
        "\n",
        "$$X = \\begin{bmatrix}x_{(0,0)}&x_{(0,1)}\\\\ x_{(1,0)}&x_{(1,1)}\\end{bmatrix}, Y = \\begin{bmatrix}y_{(0,0)}&y_{(0,1)}\\\\ y_{(1,0)}&y_{(1,1)}\\end{bmatrix}$$\n",
        "\n",
        "The dot product will then be computed as:\n",
        "$$X \\cdot Y= \\begin{bmatrix} x_{(0,0)}*y_{(0,0)} + x_{(0,1)}*y_{(1,0)} & x_{(0,0)}*y_{(0,1)} + x_{(0,1)}*y_{(1,1)} \\\\  x_{(1,0)}*y_{(0,0)} + x_{(1,1)}*y_{(1,0)} & x_{(1,0)}*y_{(0,1)} + x_{(1,1)}*y_{(1,1)}\n",
        "\\end{bmatrix}$$\n",
        "\n",
        "So if we assign values to $X$ and $Y$:\n",
        "$$X = \\begin{bmatrix}1&2\\\\ 0&1\\end{bmatrix}, Y = \\begin{bmatrix}-1&0\\\\ 2&2\\end{bmatrix}$$"
      ],
      "metadata": {
        "id": "9gufxRwT-Y-t"
      }
    },
    {
      "cell_type": "markdown",
      "source": [
        "$$X \\cdot Y= \\begin{bmatrix} 1*-1 + 2*2 & 1*0 + 2*2 \\\\  0*-1 + 1*2 & 0*0 + 1*2 \\end{bmatrix} = \\begin{bmatrix} 3 & 4 \\\\2 & 2 \\end{bmatrix}$$\n",
        "This could be achieved programmatically using `np.dot()`, `np.matmul()` or the `@` operator."
      ],
      "metadata": {
        "id": "t9L4Ku4G-1wF"
      }
    },
    {
      "cell_type": "code",
      "source": [
        "A = np.array([\n",
        "    [3,4,6],\n",
        "    [6,7,9]\n",
        "])\n",
        "B = np.array([\n",
        "    [-6,3,5],\n",
        "    [1,7,9]\n",
        "])"
      ],
      "metadata": {
        "id": "PBCeU7xc96vV"
      },
      "execution_count": null,
      "outputs": []
    },
    {
      "cell_type": "code",
      "source": [
        "np.dot(X,Y)"
      ],
      "metadata": {
        "colab": {
          "base_uri": "https://localhost:8080/"
        },
        "id": "MiGQkj7A_I4s",
        "outputId": "4b5be574-164b-42b1-c287-0a027e6a1137"
      },
      "execution_count": null,
      "outputs": [
        {
          "output_type": "execute_result",
          "data": {
            "text/plain": [
              "array([[-14,  37],\n",
              "       [-29,  67]])"
            ]
          },
          "metadata": {},
          "execution_count": 74
        }
      ]
    },
    {
      "cell_type": "code",
      "source": [
        "X.dot(Y)"
      ],
      "metadata": {
        "colab": {
          "base_uri": "https://localhost:8080/"
        },
        "id": "t_nsbq-q_Kx8",
        "outputId": "898842d1-4924-4c2f-d60b-c728a408aa03"
      },
      "execution_count": null,
      "outputs": [
        {
          "output_type": "execute_result",
          "data": {
            "text/plain": [
              "array([[-14,  37],\n",
              "       [-29,  67]])"
            ]
          },
          "metadata": {},
          "execution_count": 75
        }
      ]
    },
    {
      "cell_type": "code",
      "source": [
        "X @ Y"
      ],
      "metadata": {
        "colab": {
          "base_uri": "https://localhost:8080/"
        },
        "id": "lsP9GRzW_MKF",
        "outputId": "da58c743-574d-4b30-b98f-ca0bba0a2d8c"
      },
      "execution_count": null,
      "outputs": [
        {
          "output_type": "execute_result",
          "data": {
            "text/plain": [
              "array([[-14,  37],\n",
              "       [-29,  67]])"
            ]
          },
          "metadata": {},
          "execution_count": 50
        }
      ]
    },
    {
      "cell_type": "code",
      "source": [
        "np.matmul(X,Y)"
      ],
      "metadata": {
        "colab": {
          "base_uri": "https://localhost:8080/"
        },
        "id": "R29qM4Da_MQH",
        "outputId": "18c62499-652d-4d6d-8a2e-727685c27602"
      },
      "execution_count": null,
      "outputs": [
        {
          "output_type": "execute_result",
          "data": {
            "text/plain": [
              "array([[-14,  37],\n",
              "       [-29,  67]])"
            ]
          },
          "metadata": {},
          "execution_count": 51
        }
      ]
    },
    {
      "cell_type": "markdown",
      "source": [
        "In matrix dot products there are additional rules compared with vector dot products. Since vector dot products were just in one dimension there are less restrictions. Since now we are dealing with Rank 2 vectors we need to consider some rules:\n",
        "\n",
        "### Rule 1: The two matrices in question must have the same inner dimensions.\n",
        "\n",
        "So given a matrix $A$ with a shape of $(a,b)$ where $a$ and $b$ are any integers. If we want to do a dot product between $A$ and another matrix $B$, then matrix $B$ should have a shape of $(b,c)$ where $b$ and $c$ are any integers. So for given the following matrices:\n",
        "\n",
        "$$A = \\begin{bmatrix}2&4&3\\\\5&-2&6\\\\0&1&8\\end{bmatrix}, \n",
        "B = \\begin{bmatrix}1&1&7\\\\3&3&6\\\\-1&-2&4\\\\4&8&9\\end{bmatrix}, \n",
        "C = \\begin{bmatrix}1&1\\\\9&2\\\\7&3\\end{bmatrix}$$\n",
        "\n",
        "So in this case $A$ has a shape of $(3,3)$, $B$ has a shape of $(3,4)$ and $C$ has a shape of $(2,2)$. So the only matrix pairs that is eligible to perform dot product is matrices $A \\cdot C$, or $B \\cdot A$.  "
      ],
      "metadata": {
        "id": "ycEVCiiM_2tX"
      }
    },
    {
      "cell_type": "code",
      "source": [
        "S = np.array([\n",
        "    [2, 4,3],\n",
        "    [5, -2,6],\n",
        "    [0, 1,8]\n",
        "])\n",
        "A = np.array([\n",
        "    [1,1,7],\n",
        "    [3,3,6],\n",
        "    [-1,-2,4],\n",
        "    [4,8,9]\n",
        "])\n",
        "M = np.array([\n",
        "    [1,1],\n",
        "    [9,2],\n",
        "    [7,3]\n",
        "])\n",
        "print(S.shape)\n",
        "print(A.shape)\n",
        "print(M.shape)"
      ],
      "metadata": {
        "colab": {
          "base_uri": "https://localhost:8080/"
        },
        "id": "xuhfdIBO__Et",
        "outputId": "4e4638a9-5c9f-4995-dfbc-2d951ef216e9"
      },
      "execution_count": null,
      "outputs": [
        {
          "output_type": "stream",
          "name": "stdout",
          "text": [
            "(3, 3)\n",
            "(4, 3)\n",
            "(3, 2)\n"
          ]
        }
      ]
    },
    {
      "cell_type": "code",
      "source": [
        "S @ M"
      ],
      "metadata": {
        "colab": {
          "base_uri": "https://localhost:8080/"
        },
        "id": "wEX7tQrrABMb",
        "outputId": "f3b836a9-0890-4242-a41a-af09d0fb3c29"
      },
      "execution_count": null,
      "outputs": [
        {
          "output_type": "execute_result",
          "data": {
            "text/plain": [
              "array([[59, 19],\n",
              "       [29, 19],\n",
              "       [65, 26]])"
            ]
          },
          "metadata": {},
          "execution_count": 68
        }
      ]
    },
    {
      "cell_type": "code",
      "source": [
        "A @ S"
      ],
      "metadata": {
        "colab": {
          "base_uri": "https://localhost:8080/"
        },
        "id": "_Rj_ugtVABij",
        "outputId": "1ca03a98-4c13-464d-821f-a5bf3501cf24"
      },
      "execution_count": null,
      "outputs": [
        {
          "output_type": "execute_result",
          "data": {
            "text/plain": [
              "array([[  7,   9,  65],\n",
              "       [ 21,  12,  75],\n",
              "       [-12,   4,  17],\n",
              "       [ 48,   9, 132]])"
            ]
          },
          "metadata": {},
          "execution_count": 69
        }
      ]
    },
    {
      "cell_type": "markdown",
      "source": [
        "If you would notice the shape of the dot product changed and its shape is not the same as any of the matrices we used. The shape of a dot product is actually derived from the shapes of the matrices used. So recall matrix $A$ with a shape of $(a,b)$ and matrix $B$ with a shape of $(b,c)$, $A \\cdot B$ should have a shape $(a,c)$."
      ],
      "metadata": {
        "id": "YO1LP06VAFhE"
      }
    },
    {
      "cell_type": "code",
      "source": [
        "A @ B.T"
      ],
      "metadata": {
        "colab": {
          "base_uri": "https://localhost:8080/"
        },
        "id": "DlCe4KATAJcE",
        "outputId": "d9054356-d7a1-4ea4-d2b4-a1dea901a919"
      },
      "execution_count": null,
      "outputs": [
        {
          "output_type": "execute_result",
          "data": {
            "text/plain": [
              "array([[ 24,  85],\n",
              "       [ 30, 136]])"
            ]
          },
          "metadata": {},
          "execution_count": 76
        }
      ]
    },
    {
      "cell_type": "code",
      "source": [
        "X = np.array([\n",
        "    [1,2,3,4,0]\n",
        "])\n",
        "Y = np.array([\n",
        "    [5,6,7,8,9]\n",
        "])\n",
        "print(X.shape)\n",
        "print(Y.shape)"
      ],
      "metadata": {
        "colab": {
          "base_uri": "https://localhost:8080/"
        },
        "id": "Qn1w-FimAK73",
        "outputId": "a13c5a6a-91d7-4ce9-b300-9c7057a0dcff"
      },
      "execution_count": null,
      "outputs": [
        {
          "output_type": "stream",
          "name": "stdout",
          "text": [
            "(1, 5)\n",
            "(1, 5)\n"
          ]
        }
      ]
    },
    {
      "cell_type": "code",
      "source": [
        "Y.T @ X"
      ],
      "metadata": {
        "colab": {
          "base_uri": "https://localhost:8080/"
        },
        "id": "C0fffez5AMi3",
        "outputId": "a8834822-0227-44a8-b7f1-8a02211de9d8"
      },
      "execution_count": null,
      "outputs": [
        {
          "output_type": "execute_result",
          "data": {
            "text/plain": [
              "array([[ 5, 10, 15, 20,  0],\n",
              "       [ 6, 12, 18, 24,  0],\n",
              "       [ 7, 14, 21, 28,  0],\n",
              "       [ 8, 16, 24, 32,  0],\n",
              "       [ 9, 18, 27, 36,  0]])"
            ]
          },
          "metadata": {},
          "execution_count": 79
        }
      ]
    },
    {
      "cell_type": "markdown",
      "source": [
        "And you can see that when you try to multiply A and B, it returns `ValueError` pertaining to matrix shape mismatch."
      ],
      "metadata": {
        "id": "vL0i5F02BTf8"
      }
    },
    {
      "cell_type": "markdown",
      "source": [
        "### Rule 2: Dot Product has special properties\n",
        "\n",
        "Dot products are prevalent in matrix algebra, this implies that it has several unique properties and it should be considered when formulation solutions:\n",
        " 1. $A \\cdot B \\neq B \\cdot A$\n",
        " 2. $A \\cdot (B \\cdot C) = (A \\cdot B) \\cdot C$\n",
        " 3. $A\\cdot(B+C) = A\\cdot B + A\\cdot C$\n",
        " 4. $(B+C)\\cdot A = B\\cdot A + C\\cdot A$\n",
        " 5. $A\\cdot I = A$\n",
        " 6. $A\\cdot \\emptyset = \\emptyset$ "
      ],
      "metadata": {
        "id": "DIKom5ySBXP1"
      }
    },
    {
      "cell_type": "markdown",
      "source": [
        "Dot product in matrix refers to the summation of all products of each entry. It is composed of 6 unique properties.\n",
        "* The first property proves that the dot product of A and B is not equal to the dot product of B and A. This also means that the commutative property of multiplication is not applicable to matrices.\n",
        "* The second property shows that the product of A and dot product of B and C is equal to the product of C and dot product of A and B. This shows the associative property of multiplication.\n",
        "* The third property of the dot product of matrices shows that the A multiplied by the sum of B and C is equal to the sum of the product of A and B and product of A and C. This presents the distributive property of multiplication. \n",
        "* The fourth property is somehow similar to the third property, where A is distributed to both B and C. It is equal to the sum of the product of B and A, and the product of C and A. \n",
        "* The fifth property shows that when A is  multiplied by I the products will always be A, regardless of the order in which multiplication was performed. This shows the multiplicative identity property.\n",
        "* The last property shows that any matrix multiplied by zero the product will always be equal to zero. This shows the multiplicative property of zero.\n",
        "\n"
      ],
      "metadata": {
        "id": "JZPOGWTBDjGx"
      }
    },
    {
      "cell_type": "code",
      "source": [
        "A = np.array([\n",
        "    [3,2,1],\n",
        "    [4,5,6],\n",
        "    [7,8,9]\n",
        "])\n",
        "B = np.array([\n",
        "    [3,2,4],\n",
        "    [5,1,1],\n",
        "    [1,2,8]\n",
        "])\n",
        "C = np.array([\n",
        "    [1,0,0],\n",
        "    [1,1,0],\n",
        "    [0,1,1]\n",
        "])"
      ],
      "metadata": {
        "id": "RhEgimWJBbRX"
      },
      "execution_count": null,
      "outputs": []
    },
    {
      "cell_type": "code",
      "source": [
        "A.dot(np.ones(A.shape))"
      ],
      "metadata": {
        "colab": {
          "base_uri": "https://localhost:8080/"
        },
        "id": "lQFw2am7BcW2",
        "outputId": "06a772ff-5342-4c95-d298-5dbb8511cccd"
      },
      "execution_count": null,
      "outputs": [
        {
          "output_type": "execute_result",
          "data": {
            "text/plain": [
              "array([[ 6.,  6.,  6.],\n",
              "       [15., 15., 15.],\n",
              "       [24., 24., 24.]])"
            ]
          },
          "metadata": {},
          "execution_count": 100
        }
      ]
    },
    {
      "cell_type": "code",
      "source": [
        "z_mat = np.array(B.shape)\n",
        "z_mat"
      ],
      "metadata": {
        "colab": {
          "base_uri": "https://localhost:8080/"
        },
        "id": "zT9RFUhYBd2z",
        "outputId": "99a64be3-7b04-4516-866a-ce26c1ba1aaf"
      },
      "execution_count": null,
      "outputs": [
        {
          "output_type": "execute_result",
          "data": {
            "text/plain": [
              "array([3, 3])"
            ]
          },
          "metadata": {},
          "execution_count": 101
        }
      ]
    },
    {
      "cell_type": "code",
      "source": [
        "a_dot_z = B.dot(np.ones(A.shape))\n",
        "a_dot_z"
      ],
      "metadata": {
        "colab": {
          "base_uri": "https://localhost:8080/"
        },
        "id": "vkW0Lbn6BfCx",
        "outputId": "81815cec-a235-49ac-e99b-0c4e6e1c4651"
      },
      "execution_count": null,
      "outputs": [
        {
          "output_type": "execute_result",
          "data": {
            "text/plain": [
              "array([[ 9.,  9.,  9.],\n",
              "       [ 7.,  7.,  7.],\n",
              "       [11., 11., 11.]])"
            ]
          },
          "metadata": {},
          "execution_count": 96
        }
      ]
    },
    {
      "cell_type": "code",
      "source": [
        "np.array_equal(a_dot_z,z_mat)"
      ],
      "metadata": {
        "colab": {
          "base_uri": "https://localhost:8080/"
        },
        "id": "JeG6sToLBgQt",
        "outputId": "1d2e1535-58c6-49e4-8a27-ae92a8af60c1"
      },
      "execution_count": null,
      "outputs": [
        {
          "output_type": "execute_result",
          "data": {
            "text/plain": [
              "False"
            ]
          },
          "metadata": {},
          "execution_count": 97
        }
      ]
    },
    {
      "cell_type": "code",
      "source": [
        "null_mat = np.empty(A.shape, dtype=float)\n",
        "null = np.array(null_mat,dtype=float)\n",
        "print(null)\n",
        "np.allclose(a_dot_z,null)"
      ],
      "metadata": {
        "colab": {
          "base_uri": "https://localhost:8080/"
        },
        "id": "aj4rSp7mBimp",
        "outputId": "1be3e1d3-a7f8-4fc8-caf0-d156a5350de5"
      },
      "execution_count": null,
      "outputs": [
        {
          "output_type": "stream",
          "name": "stdout",
          "text": [
            "[[ 9.  9.  9.]\n",
            " [ 7.  7.  7.]\n",
            " [11. 11. 11.]]\n"
          ]
        },
        {
          "output_type": "execute_result",
          "data": {
            "text/plain": [
              "True"
            ]
          },
          "metadata": {},
          "execution_count": 98
        }
      ]
    },
    {
      "cell_type": "code",
      "source": [
        "np.eye(5)"
      ],
      "metadata": {
        "colab": {
          "base_uri": "https://localhost:8080/"
        },
        "id": "Ew3XwBASHD2q",
        "outputId": "b7dbdcde-968a-4b59-f32c-35011ab6bc52"
      },
      "execution_count": null,
      "outputs": [
        {
          "output_type": "execute_result",
          "data": {
            "text/plain": [
              "array([[1., 0., 0., 0., 0.],\n",
              "       [0., 1., 0., 0., 0.],\n",
              "       [0., 0., 1., 0., 0.],\n",
              "       [0., 0., 0., 1., 0.],\n",
              "       [0., 0., 0., 0., 1.]])"
            ]
          },
          "metadata": {},
          "execution_count": 99
        }
      ]
    },
    {
      "cell_type": "code",
      "source": [
        "A = np.array ([\n",
        "    [1,2,3,4],\n",
        "    [5,6,7,8],\n",
        "    [9,1,2,3],\n",
        "    [4,5,6,7]           \n",
        "])\n",
        "B = np.array ([\n",
        "    [0,0,0,1],\n",
        "    [0,0,6,5],\n",
        "    [0,2,1,9],\n",
        "    [7,6,5,4]           \n",
        "])\n",
        "C = np.array ([\n",
        "    [4,3,2,1],\n",
        "    [8,7,6,5],\n",
        "    [3,2,1,9],\n",
        "    [7,6,5,4]           \n",
        "])"
      ],
      "metadata": {
        "id": "EB5Y_yUELyk8"
      },
      "execution_count": 3,
      "outputs": []
    },
    {
      "cell_type": "code",
      "source": [
        "D = A.dot(B)\n",
        "E = A.dot(C)\n",
        "F = B.dot(C)\n",
        "G = B + C\n",
        "H = D + E\n",
        "I = B.dot(A)\n",
        "J = C.dot(A)\n",
        "K = I + J"
      ],
      "metadata": {
        "id": "rA0abkpc295T"
      },
      "execution_count": 4,
      "outputs": []
    },
    {
      "cell_type": "code",
      "source": [
        "np.array_equiv(D, I)"
      ],
      "metadata": {
        "colab": {
          "base_uri": "https://localhost:8080/",
          "height": 0
        },
        "id": "awMl9GjB4cCn",
        "outputId": "d3aab54d-fe2b-453a-c35b-19532989b2a9"
      },
      "execution_count": 8,
      "outputs": [
        {
          "output_type": "execute_result",
          "data": {
            "text/plain": [
              "False"
            ]
          },
          "metadata": {},
          "execution_count": 8
        }
      ]
    },
    {
      "cell_type": "code",
      "source": [
        "np.array_equiv(A.dot(F),D.dot(C))"
      ],
      "metadata": {
        "colab": {
          "base_uri": "https://localhost:8080/",
          "height": 0
        },
        "id": "7wxpoMrE4ioV",
        "outputId": "1c2287b1-1f2a-435b-f2ec-5259d326a60f"
      },
      "execution_count": 10,
      "outputs": [
        {
          "output_type": "execute_result",
          "data": {
            "text/plain": [
              "True"
            ]
          },
          "metadata": {},
          "execution_count": 10
        }
      ]
    },
    {
      "cell_type": "code",
      "source": [
        "np.array_equiv(A.dot(G),H)"
      ],
      "metadata": {
        "colab": {
          "base_uri": "https://localhost:8080/",
          "height": 0
        },
        "id": "GhFlpkl04uFa",
        "outputId": "837572ae-83ab-4284-f47e-f1cd412f46ee"
      },
      "execution_count": 11,
      "outputs": [
        {
          "output_type": "execute_result",
          "data": {
            "text/plain": [
              "True"
            ]
          },
          "metadata": {},
          "execution_count": 11
        }
      ]
    },
    {
      "cell_type": "code",
      "source": [
        "np.array_equiv(G.dot(A),K)"
      ],
      "metadata": {
        "colab": {
          "base_uri": "https://localhost:8080/"
        },
        "id": "6xzAcUYS42ja",
        "outputId": "1daebe75-9247-45c3-a322-298d02d9210b"
      },
      "execution_count": null,
      "outputs": [
        {
          "output_type": "execute_result",
          "data": {
            "text/plain": [
              "True"
            ]
          },
          "metadata": {},
          "execution_count": 15
        }
      ]
    },
    {
      "cell_type": "code",
      "source": [
        "A.dot(1)"
      ],
      "metadata": {
        "colab": {
          "base_uri": "https://localhost:8080/"
        },
        "id": "PZlUIQRL5PI0",
        "outputId": "d1d2c5a1-475e-4835-ce9d-81467020f34b"
      },
      "execution_count": null,
      "outputs": [
        {
          "output_type": "execute_result",
          "data": {
            "text/plain": [
              "array([[1, 2, 3, 4],\n",
              "       [5, 6, 7, 8],\n",
              "       [9, 1, 2, 3],\n",
              "       [4, 5, 6, 7]])"
            ]
          },
          "metadata": {},
          "execution_count": 17
        }
      ]
    },
    {
      "cell_type": "code",
      "source": [
        "A.dot(0)"
      ],
      "metadata": {
        "colab": {
          "base_uri": "https://localhost:8080/"
        },
        "id": "7P46bCSw5UoB",
        "outputId": "293d9e32-6ae7-4ba9-c2e0-2a46ccec3eee"
      },
      "execution_count": null,
      "outputs": [
        {
          "output_type": "execute_result",
          "data": {
            "text/plain": [
              "array([[0, 0, 0, 0],\n",
              "       [0, 0, 0, 0],\n",
              "       [0, 0, 0, 0],\n",
              "       [0, 0, 0, 0]])"
            ]
          },
          "metadata": {},
          "execution_count": 18
        }
      ]
    },
    {
      "cell_type": "markdown",
      "source": [
        "## Determinant"
      ],
      "metadata": {
        "id": "YDNuEj-YLzE6"
      }
    },
    {
      "cell_type": "markdown",
      "source": [
        "The determinant is a special number that can be calculated from a matrix. It has to be a square matrix in order to proceed. Cross multiplication is the process to perform determinant in matrix.\n"
      ],
      "metadata": {
        "id": "Uu9sH8jqEOJr"
      }
    },
    {
      "cell_type": "markdown",
      "source": [
        "The determinant of some matrix $A$ is denoted as $det(A)$ or $|A|$. So let's say $A$ is represented as:\n",
        "$$A = \\begin{bmatrix}a_{(0,0)}&a_{(0,1)}\\\\a_{(1,0)}&a_{(1,1)}\\end{bmatrix}$$\n",
        "We can compute for the determinant as:\n",
        "$$|A| = a_{(0,0)}*a_{(1,1)} - a_{(1,0)}*a_{(0,1)}$$\n",
        "So if we have $A$ as:\n",
        "$$A = \\begin{bmatrix}1&4\\\\0&3\\end{bmatrix}, |A| = 3$$\n",
        "\n",
        "But you might wonder how about square matrices beyond the shape $(2,2)$? We can approach this problem by using several methods such as co-factor expansion and the minors method. This can be taught in the lecture of the laboratory but we can achieve the strenuous computation of high-dimensional matrices programmatically using Python. We can achieve this by using `np.linalg.det()`."
      ],
      "metadata": {
        "id": "MP0BFDvXL0QG"
      }
    },
    {
      "cell_type": "code",
      "source": [
        "A = np.array([\n",
        "    [1,5,8],\n",
        "    [0,2,4],\n",
        "    [1,3,3]\n",
        "])\n",
        "np.linalg.det(A)"
      ],
      "metadata": {
        "colab": {
          "base_uri": "https://localhost:8080/"
        },
        "id": "vcStUpr7L3V6",
        "outputId": "2cf887db-4674-4ce7-94cd-d716743fb562"
      },
      "execution_count": null,
      "outputs": [
        {
          "output_type": "execute_result",
          "data": {
            "text/plain": [
              "-2.0"
            ]
          },
          "metadata": {},
          "execution_count": 103
        }
      ]
    },
    {
      "cell_type": "code",
      "source": [
        "B = np.array([\n",
        "    [0,3,5,6,9],\n",
        "    [0,0,1,3,0],\n",
        "    [3,1,0,2,7],\n",
        "    [5,2,6,0,3],\n",
        "    [1,2,2,7,0]\n",
        "])\n",
        "np.linalg.det(B)"
      ],
      "metadata": {
        "colab": {
          "base_uri": "https://localhost:8080/"
        },
        "id": "ddMGPKNULzqd",
        "outputId": "1a992d34-0e11-461c-d4d6-3324ec959cbb"
      },
      "execution_count": null,
      "outputs": [
        {
          "output_type": "execute_result",
          "data": {
            "text/plain": [
              "1806.0000000000018"
            ]
          },
          "metadata": {},
          "execution_count": 106
        }
      ]
    },
    {
      "cell_type": "code",
      "source": [
        "C = np.array([\n",
        "    [1,4],\n",
        "    [2,1]\n",
        "])\n",
        "np.linalg.det(C)"
      ],
      "metadata": {
        "colab": {
          "base_uri": "https://localhost:8080/"
        },
        "id": "eOqUhgOgMSpi",
        "outputId": "5ee8490f-244b-4aca-d69e-999430b4bd6d"
      },
      "execution_count": null,
      "outputs": [
        {
          "output_type": "execute_result",
          "data": {
            "text/plain": [
              "-7.000000000000001"
            ]
          },
          "metadata": {},
          "execution_count": 105
        }
      ]
    },
    {
      "cell_type": "markdown",
      "source": [
        "## Inverse"
      ],
      "metadata": {
        "id": "ZJby3svNMjbR"
      }
    },
    {
      "cell_type": "markdown",
      "source": [
        "Inverse of a Matrix is one of the matrix where multiplying the given matrix, which shows multiplicative identity. It is denoted as A^-1.\n"
      ],
      "metadata": {
        "id": "4f91RWekEX7t"
      }
    },
    {
      "cell_type": "markdown",
      "source": [
        "The inverse of a matrix is another fundamental operation in matrix algebra. Determining the inverse of a matrix let us determine if its solvability and its characteristic as a system of linear equation — we'll expand on this in the nect module. Another use of the inverse matrix is solving the problem of divisibility between matrices. Although element-wise division exists but dividing the entire concept of matrices does not exists. Inverse matrices provides a related operation that could have the same concept of \"dividing\" matrices.\n",
        "\n",
        "Now to determine the inverse of a matrix we need to perform several steps. So let's say we have a matrix $M$:\n",
        "$$M = \\begin{bmatrix}1&7\\\\-3&5\\end{bmatrix}$$\n",
        "First, we need to get the determinant of $M$.\n",
        "$$|M| = (1)(5)-(-3)(7) = 26$$\n",
        "Next, we need to reform the matrix into the inverse form:\n",
        "$$M^{-1} = \\frac{1}{|M|} \\begin{bmatrix} m_{(1,1)} & -m_{(0,1)} \\\\ -m_{(1,0)} & m_{(0,0)}\\end{bmatrix}$$\n",
        "So that will be:\n",
        "$$M^{-1} = \\frac{1}{26} \\begin{bmatrix} 5 & -7 \\\\ 3 & 1\\end{bmatrix} = \\begin{bmatrix} \\frac{5}{26} & \\frac{-7}{26} \\\\ \\frac{3}{26} & \\frac{1}{26}\\end{bmatrix}$$\n",
        "For higher-dimension matrices you might need to use co-factors, minors, adjugates, and other reduction techinques. To solve this programmatially we can use `np.linalg.inv()`."
      ],
      "metadata": {
        "id": "D6xVUTb1MlkD"
      }
    },
    {
      "cell_type": "code",
      "source": [
        "M = np.array([\n",
        "    [2,3],\n",
        "    [1,-1]\n",
        "])\n",
        "\n",
        "np.array(M @ np.linalg.inv(M), dtype=int)"
      ],
      "metadata": {
        "colab": {
          "base_uri": "https://localhost:8080/"
        },
        "id": "qZ1XDeyOMpgT",
        "outputId": "99b250f0-7cf3-4fa2-df28-8826ab1295c1"
      },
      "execution_count": null,
      "outputs": [
        {
          "output_type": "execute_result",
          "data": {
            "text/plain": [
              "array([[1, 0],\n",
              "       [0, 1]])"
            ]
          },
          "metadata": {},
          "execution_count": 3
        }
      ]
    },
    {
      "cell_type": "code",
      "source": [
        "S=np.array([\n",
        "    [1,2,3],\n",
        "    [3,4,5],\n",
        "    [6,9,0]\n",
        "])\n",
        "A = np.linalg.inv(S)\n",
        "A"
      ],
      "metadata": {
        "colab": {
          "base_uri": "https://localhost:8080/"
        },
        "id": "OJWPxQfOOI0k",
        "outputId": "cefb0635-84b9-4e57-b6b9-664f58d88a84"
      },
      "execution_count": null,
      "outputs": [
        {
          "output_type": "execute_result",
          "data": {
            "text/plain": [
              "array([[-1.875     ,  1.125     , -0.08333333],\n",
              "       [ 1.25      , -0.75      ,  0.16666667],\n",
              "       [ 0.125     ,  0.125     , -0.08333333]])"
            ]
          },
          "metadata": {},
          "execution_count": 7
        }
      ]
    },
    {
      "cell_type": "code",
      "source": [
        "S @ A"
      ],
      "metadata": {
        "colab": {
          "base_uri": "https://localhost:8080/"
        },
        "id": "9rRhqDQvP49I",
        "outputId": "a7babc49-bae9-4db2-db68-709a961a1596"
      },
      "execution_count": null,
      "outputs": [
        {
          "output_type": "execute_result",
          "data": {
            "text/plain": [
              "array([[ 1.00000000e+00,  0.00000000e+00,  6.93889390e-17],\n",
              "       [ 0.00000000e+00,  1.00000000e+00, -1.38777878e-17],\n",
              "       [ 0.00000000e+00,  0.00000000e+00,  1.00000000e+00]])"
            ]
          },
          "metadata": {},
          "execution_count": 5
        }
      ]
    },
    {
      "cell_type": "code",
      "source": [
        "N = np.array([\n",
        "    [18,5,23,1,0,33,5],\n",
        "    [0,45,0,11,2,4,2],\n",
        "    [5,9,20,0,0,0,3],\n",
        "    [1,6,4,4,8,43,1],\n",
        "    [8,6,8,7,1,6,1],\n",
        "    [-5,15,2,0,0,6,-30],\n",
        "    [-2,-5,1,2,1,20,12],\n",
        "])\n",
        "N_inv = np.linalg.inv(N)\n",
        "np.array(N @ N_inv,dtype=int)"
      ],
      "metadata": {
        "colab": {
          "base_uri": "https://localhost:8080/"
        },
        "id": "JQs1wEzIMp_B",
        "outputId": "198e39ed-8d51-46c0-b8a7-59ca7a935fad"
      },
      "execution_count": null,
      "outputs": [
        {
          "output_type": "execute_result",
          "data": {
            "text/plain": [
              "array([[0, 0, 0, 0, 0, 0, 0],\n",
              "       [0, 0, 0, 0, 0, 0, 0],\n",
              "       [0, 0, 1, 0, 0, 0, 0],\n",
              "       [0, 0, 0, 1, 0, 0, 0],\n",
              "       [0, 0, 0, 0, 0, 0, 0],\n",
              "       [0, 0, 0, 0, 0, 0, 0],\n",
              "       [0, 0, 0, 0, 0, 0, 0]])"
            ]
          },
          "metadata": {},
          "execution_count": 110
        }
      ]
    },
    {
      "cell_type": "markdown",
      "source": [
        "To validate the wether if the matric that you have solved is really the inverse, we follow this dot product property for a matrix $M$:\n",
        "$$M\\cdot M^{-1} = I$$"
      ],
      "metadata": {
        "id": "8eZqkOQrMt6l"
      }
    },
    {
      "cell_type": "code",
      "source": [
        "squad = np.array([\n",
        "    [1.0, 1.75, 0.25],\n",
        "    [0.75, 2.0, 1.50],\n",
        "    [3.0, 2.25, 1.0]\n",
        "])\n",
        "weights = np.array([\n",
        "    [0.2, 0.2, 0.6]\n",
        "])\n",
        "p_grade = squad @ weights.T\n",
        "p_grade"
      ],
      "metadata": {
        "colab": {
          "base_uri": "https://localhost:8080/"
        },
        "id": "oyX3zUwPMr24",
        "outputId": "12b5f19f-378a-4ef8-c109-8bad501cd57e"
      },
      "execution_count": null,
      "outputs": [
        {
          "output_type": "execute_result",
          "data": {
            "text/plain": [
              "array([[0.7 ],\n",
              "       [1.45],\n",
              "       [1.65]])"
            ]
          },
          "metadata": {},
          "execution_count": 117
        }
      ]
    },
    {
      "cell_type": "markdown",
      "source": [
        "# Activity"
      ],
      "metadata": {
        "id": "PGXyP7GN6sZs"
      }
    },
    {
      "cell_type": "markdown",
      "source": [
        "### Task 1"
      ],
      "metadata": {
        "id": "cY0GWqlJ6z5p"
      }
    },
    {
      "cell_type": "markdown",
      "source": [
        "Prove and implement the remaining 6 matrix multiplication properties. You may create your own matrices in which their shapes should not be lower than $(3,3)$.\n",
        "In your methodology, create individual flowcharts for each property and discuss the property you would then present your proofs or validity of your implementation in the results section by comparing your result to present functions from NumPy."
      ],
      "metadata": {
        "id": "zHxXRsBT6qns"
      }
    },
    {
      "cell_type": "code",
      "source": [
        "A = np.array ([\n",
        "    [1,2,3,4],\n",
        "    [5,6,7,8],\n",
        "    [9,1,2,3],\n",
        "    [4,5,6,7]           \n",
        "])\n",
        "B = np.array ([\n",
        "    [0,0,0,1],\n",
        "    [0,0,6,5],\n",
        "    [0,2,1,9],\n",
        "    [7,6,5,4]           \n",
        "])\n",
        "C = np.array ([\n",
        "    [4,3,2,1],\n",
        "    [8,7,6,5],\n",
        "    [3,2,1,9],\n",
        "    [7,6,5,4]           \n",
        "])"
      ],
      "metadata": {
        "id": "h2luuVd_7TEU"
      },
      "execution_count": 36,
      "outputs": []
    },
    {
      "cell_type": "code",
      "source": [
        "D = A.dot(B)\n",
        "E = A.dot(C)\n",
        "F = B.dot(C)\n",
        "G = B + C\n",
        "H = D + E\n",
        "I = B.dot(A)\n",
        "J = C.dot(A)\n",
        "K = I + J"
      ],
      "metadata": {
        "id": "qaLqVZyU7aRN"
      },
      "execution_count": 57,
      "outputs": []
    },
    {
      "cell_type": "code",
      "source": [
        "print('PROPERTY NO. 1')\n",
        "print(f'Is AB=BA?:  {np.array_equiv(D, I)}')\n",
        "print('Matrix AB:')\n",
        "print(np.matmul(A,B))\n",
        "print(f'Shape:\\t{np.matmul(A,B).shape}')\n",
        "print('Matrix BA:')\n",
        "print(np.matmul(B,A))\n",
        "print(f'Shape:\\t{np.matmul(B,A).shape}')\n",
        "print('PROPERTY PROVEN!')"
      ],
      "metadata": {
        "colab": {
          "base_uri": "https://localhost:8080/"
        },
        "id": "NRlGcd_XmsOR",
        "outputId": "f194957d-9e45-4363-a3f9-8de7f1345903"
      },
      "execution_count": 46,
      "outputs": [
        {
          "output_type": "stream",
          "name": "stdout",
          "text": [
            "PROPERTY NO. 1\n",
            "Is AB=BA?:  False\n",
            "Matrix AB:\n",
            "[[ 28  30  35  54]\n",
            " [ 56  62  83 130]\n",
            " [ 21  22  23  44]\n",
            " [ 49  54  71 111]]\n",
            "Shape:\t(4, 4)\n",
            "Matrix BA:\n",
            "[[  4   5   6   7]\n",
            " [ 74  31  42  53]\n",
            " [ 55  58  70  82]\n",
            " [ 98  75  97 119]]\n",
            "Shape:\t(4, 4)\n",
            "PROPERTY PROVEN!\n"
          ]
        }
      ]
    },
    {
      "cell_type": "code",
      "source": [
        "print('PROPERTY NO. 2')\n",
        "print(f'Is A(BC)=(AB)C?:  {np.array_equiv(A.dot(F),D.dot(C))}')\n",
        "print('Matrix A(BC):')\n",
        "print(np.matmul(A,F))\n",
        "print(f'Shape:\\t{np.matmul(A,F).shape}')\n",
        "print('Matrix (AB)C:')\n",
        "print(np.matmul(D,C))\n",
        "print(f'Shape:\\t{np.matmul(D,C).shape}')\n",
        "print('PROPERTY PROVEN!')"
      ],
      "metadata": {
        "colab": {
          "base_uri": "https://localhost:8080/"
        },
        "id": "TSWRWqw57m8m",
        "outputId": "151fbce9-bc79-4bd6-804b-384c4bb07d7a"
      },
      "execution_count": 47,
      "outputs": [
        {
          "output_type": "stream",
          "name": "stdout",
          "text": [
            "PROPERTY NO. 2\n",
            "Is A(BC)=(AB)C?:  True\n",
            "Matrix A(BC):\n",
            "[[ 835  688  541  709]\n",
            " [1879 1548 1217 1633]\n",
            " [ 637  527  417  514]\n",
            " [1618 1333 1048 1402]]\n",
            "Shape:\t(4, 4)\n",
            "Matrix (AB)C:\n",
            "[[ 835  688  541  709]\n",
            " [1879 1548 1217 1633]\n",
            " [ 637  527  417  514]\n",
            " [1618 1333 1048 1402]]\n",
            "Shape:\t(4, 4)\n",
            "PROPERTY PROVEN!\n"
          ]
        }
      ]
    },
    {
      "cell_type": "code",
      "source": [
        "print('PROPERTY NO. 3')\n",
        "print(f'Is A(B+C)=(AB)+(AC)?:  {np.array_equiv(A.dot(G),H)}')\n",
        "print('Matrix A(B+C):')\n",
        "print(np.matmul(A,G))\n",
        "print(f'Shape:\\t{np.matmul(A,G).shape}')\n",
        "print('Matrix (AB)+(AC):')\n",
        "print(np.add(D,E))\n",
        "print(f'Shape:\\t{np.add(D,E).shape}')\n",
        "print('PROPERTY PROVEN!')"
      ],
      "metadata": {
        "colab": {
          "base_uri": "https://localhost:8080/"
        },
        "id": "Z2u3_hFJ7rgb",
        "outputId": "a8671b98-7140-49ac-d5b5-33d0059fbca7"
      },
      "execution_count": 52,
      "outputs": [
        {
          "output_type": "stream",
          "name": "stdout",
          "text": [
            "PROPERTY NO. 3\n",
            "Is A(B+C)=(AB)+(AC)?:  True\n",
            "Matrix A(B+C):\n",
            "[[ 85  77  72 108]\n",
            " [201 181 176 260]\n",
            " [ 92  78  64  88]\n",
            " [172 155 150 222]]\n",
            "Shape:\t(4, 4)\n",
            "Matrix (AB)+(AC):\n",
            "[[ 85  77  72 108]\n",
            " [201 181 176 260]\n",
            " [ 92  78  64  88]\n",
            " [172 155 150 222]]\n",
            "Shape:\t(4, 4)\n",
            "PROPERTY PROVEN!\n"
          ]
        }
      ]
    },
    {
      "cell_type": "code",
      "source": [
        "print('PROPERTY NO. 4')\n",
        "print(f'Is (B+C)A=(BA)+(CA)?:  {np.array_equiv(G.dot(A),K)}')\n",
        "print('Matrix (B+C)A:')\n",
        "print(np.matmul(G,A))\n",
        "print(f'Shape:\\t{np.matmul(G,A).shape}')\n",
        "print('Matrix (BA)+(CA):')\n",
        "print(np.add(I,J))\n",
        "print(f'Shape:\\t{np.add(I,J).shape}')\n",
        "print('PROPERTY PROVEN!')\n"
      ],
      "metadata": {
        "colab": {
          "base_uri": "https://localhost:8080/"
        },
        "id": "L5vlkoCg7sJW",
        "outputId": "7acc5bae-4e0f-421e-ebd8-385722b2da78"
      },
      "execution_count": 55,
      "outputs": [
        {
          "output_type": "stream",
          "name": "stdout",
          "text": [
            "PROPERTY NO. 4\n",
            "Is (B+C)A=(BA)+(CA)?:  True\n",
            "Matrix (B+C)A:\n",
            "[[ 45  38  49  60]\n",
            " [191 120 157 194]\n",
            " [113 122 149 176]\n",
            " [196 150 194 238]]\n",
            "Shape:\t(4, 4)\n",
            "Matrix (BA)+(CA):\n",
            "[[ 45  38  49  60]\n",
            " [191 120 157 194]\n",
            " [113 122 149 176]\n",
            " [196 150 194 238]]\n",
            "Shape:\t(4, 4)\n",
            "PROPERTY PROVEN!\n"
          ]
        }
      ]
    },
    {
      "cell_type": "code",
      "source": [
        "print('PROPERTY NO. 5')\n",
        "print(f'Is A(1)=A?:  {np.array_equiv(A.dot(1),A)}')\n",
        "print('Matrix A(1):')\n",
        "print(np.multiply(A,1))\n",
        "print(f'Shape:\\t{np.multiply(A,1).shape}')\n",
        "print('Matrix A:')\n",
        "print(A)\n",
        "print(f'Shape:\\t{A.shape}')\n",
        "print('PROPERTY PROVEN!')\n"
      ],
      "metadata": {
        "colab": {
          "base_uri": "https://localhost:8080/"
        },
        "id": "Zbl0m4OW70JS",
        "outputId": "b22bc33c-2afd-487b-9110-6b0c9816e792"
      },
      "execution_count": 65,
      "outputs": [
        {
          "output_type": "stream",
          "name": "stdout",
          "text": [
            "PROPERTY NO. 5\n",
            "Is A(1)=A?:  True\n",
            "Matrix A(1):\n",
            "[[1 2 3 4]\n",
            " [5 6 7 8]\n",
            " [9 1 2 3]\n",
            " [4 5 6 7]]\n",
            "Shape:\t(4, 4)\n",
            "Matrix A:\n",
            "[[1 2 3 4]\n",
            " [5 6 7 8]\n",
            " [9 1 2 3]\n",
            " [4 5 6 7]]\n",
            "Shape:\t(4, 4)\n",
            "PROPERTY PROVEN!\n"
          ]
        }
      ]
    },
    {
      "cell_type": "code",
      "source": [
        "print('PROPERTY NO. 6')\n",
        "print(f'Is A(0)=0?:  {np.array_equiv(A.dot(0),0)}')\n",
        "print('Matrix A(0):')\n",
        "print(np.multiply(A,0))\n",
        "print(f'Shape:\\t{np.multiply(A,0).shape}')\n",
        "print('PROPERTY PROVEN!')"
      ],
      "metadata": {
        "colab": {
          "base_uri": "https://localhost:8080/"
        },
        "id": "i90iyTR071tO",
        "outputId": "8fd3d209-fb29-436d-c5f4-ccaf38e2a286"
      },
      "execution_count": 67,
      "outputs": [
        {
          "output_type": "stream",
          "name": "stdout",
          "text": [
            "PROPERTY NO. 6\n",
            "Is A(0)=0?:  True\n",
            "Matrix A(0):\n",
            "[[0 0 0 0]\n",
            " [0 0 0 0]\n",
            " [0 0 0 0]\n",
            " [0 0 0 0]]\n",
            "Shape:\t(4, 4)\n",
            "PROPERTY PROVEN!\n"
          ]
        }
      ]
    }
  ]
}