{
  "cells": [
    {
      "cell_type": "markdown",
      "metadata": {
        "id": "view-in-github",
        "colab_type": "text"
      },
      "source": [
        "<a href=\"https://colab.research.google.com/github/SamanthaNoelleDaluz/LinearAlgebra_2ndSem/blob/main/Assignment_3.ipynb\" target=\"_parent\"><img src=\"https://colab.research.google.com/assets/colab-badge.svg\" alt=\"Open In Colab\"/></a>"
      ]
    },
    {
      "cell_type": "markdown",
      "metadata": {
        "id": "Uq2qVewQx5w_"
      },
      "source": [
        "# Linear Algebra for ChE\n",
        "## Laboratory 3 : Matrices"
      ]
    },
    {
      "cell_type": "markdown",
      "metadata": {
        "id": "6scWWkIix-KM"
      },
      "source": [
        "Now that you have a fundamental knowledge about Python, we'll try to look into greater dimensions.\n",
        "\n",
        "## Objectives\n",
        "At the end of this activity you will be able to:\n",
        "1. Be familiar with matrices and their relation to linear equations\n",
        "2. Perform basic matrix operations\n",
        "3. Program and translate matrix equations and operations using Python"
      ]
    },
    {
      "cell_type": "markdown",
      "metadata": {
        "id": "qmaYjmoLyeCR"
      },
      "source": [
        "# Discussion"
      ]
    },
    {
      "cell_type": "code",
      "execution_count": null,
      "metadata": {
        "id": "xcJ7WWySyiyq"
      },
      "outputs": [],
      "source": [
        "import numpy as np\n",
        "import matplotlib.pyplot as plt\n",
        "import scipy.linalg as la\n",
        "%matplotlib inline"
      ]
    },
    {
      "cell_type": "markdown",
      "metadata": {
        "id": "2aQA--iuywlp"
      },
      "source": [
        "## Matrices\n",
        "The notation and use of matrices is probably one of the fundamentals of modern computing. Matrices are also handy representations of complex equations or multiple inter-related equations from 2-dimensional equations to even hundreds and thousands of them."
      ]
    },
    {
      "cell_type": "markdown",
      "metadata": {
        "id": "ElAXxXSDzoKT"
      },
      "source": [
        "Let's say for example you have $A$ and $B$ as system of equation."
      ]
    },
    {
      "cell_type": "markdown",
      "metadata": {
        "id": "e7k_7Z2-zqQT"
      },
      "source": [
        "$$\n",
        "A = \\left\\{\n",
        "    \\begin{array}\\\n",
        "        x + y \\\\ \n",
        "        4x - 10y\n",
        "    \\end{array}\n",
        "\\right. \\\\\n",
        "B = \\left\\{\n",
        "    \\begin{array}\\\n",
        "        x+y+z \\\\ \n",
        "        3x -2y -z \\\\\n",
        "        -x + 4y +2z\n",
        "    \\end{array}\n",
        "\\right. \\\\\n",
        "C = \\left\\{\n",
        "    \\begin{array}\\\n",
        "        w+2x+3y+4z \\\\ \n",
        "        3w-x -2y +z \\\\\n",
        "        2w -x + 4y +2z\n",
        "    \\end{array}\n",
        "\\right. \n",
        "$$\n"
      ]
    },
    {
      "cell_type": "markdown",
      "metadata": {
        "id": "QXrTYSfA1Ukw"
      },
      "source": [
        "We could see that $A$ is a system of 2 equations with 2 parameters. While $B$ is a system of 3 equations with 3 parameters. We can represent them as matrices as:"
      ]
    },
    {
      "cell_type": "markdown",
      "metadata": {
        "id": "a22fL6nd1jEM"
      },
      "source": [
        ":$$\n",
        "A=\\begin{bmatrix} 1 & 1 \\\\ 4 & {-10}\\end{bmatrix} \\\\\n",
        "B=\\begin{bmatrix} 1 & 1 & 1 \\\\ 3 & -2 & -1 \\\\ -1 & 4 & 2\\end{bmatrix}\\\\\n",
        "C=\\begin{bmatrix} 1 & 2 & 3 & 4 \\\\ 3 & -1 & -2 & 1 \\\\ 2 & -1 & 4 & 2\\end{bmatrix}\n",
        "$$\n"
      ]
    },
    {
      "cell_type": "markdown",
      "metadata": {
        "id": "H-7rtTWa3KHd"
      },
      "source": [
        "So assuming that you already discussed the fundamental representation of matrices, their types, and operations. We'll proceed in doing them in here in Python."
      ]
    },
    {
      "cell_type": "markdown",
      "metadata": {
        "id": "iF6p81Fc3YUB"
      },
      "source": [
        "Just like our previous laboratory activity, we'll represent system of linear equations as a matrix. The entities or numbers in matrices are called the elements of a matrix. These elements are arranged and ordered in rows and columns which form the list/array-like structure of matrices. And just like arrays, these elements are indexed according to their position with respect to their rows and columns. This can be represented just like the equation below. Whereas $A$ is a matrix consisting of elements denoted by $a_{i,j}$. Denoted by $i$ is the number of rows in the matrix while $j$ stands for the number of columns.<br>\n",
        "Do note that the $size$ of a matrix is $i\\times j$."
      ]
    },
    {
      "cell_type": "markdown",
      "metadata": {
        "id": "xKN1Z7vu3cIw"
      },
      "source": [
        "$$A=\\begin{bmatrix}\n",
        "a_{(0,0)}&a_{(0,1)}&\\dots&a_{(0,j-1)}\\\\\n",
        "a_{(1,0)}&a_{(1,1)}&\\dots&a_{(1,j-1)}\\\\\n",
        "\\vdots&\\vdots&\\ddots&\\vdots&\\\\\n",
        "a_{(i-1,0)}&a_{(i-1,1)}&\\dots&a_{(i-1,j-1)}\n",
        "\\end{bmatrix}\n",
        "$$\n"
      ]
    },
    {
      "cell_type": "markdown",
      "metadata": {
        "id": "gSSXLk_53yll"
      },
      "source": [
        "We already gone over some of the types of matrices as vectors but we'll further discuss them in this laboratory activity. Since you already know how to describe vectors using <b>shape</b>, <b>dimensions</b> and <b>size</b> attributes, we'll use them to analyze these matrices."
      ]
    },
    {
      "cell_type": "code",
      "execution_count": null,
      "metadata": {
        "id": "Yf9XpFV235jd"
      },
      "outputs": [],
      "source": [
        "## since we'll keep on describing matrices. Let's make a function\n",
        "def describe_mat(matrix):\n",
        "  print(f'Matrix:\\n{matrix}\\n\\nShape:\\t{matrix.shape}\\nRank:\\t{matrix.ndim}\\n')"
      ]
    },
    {
      "cell_type": "code",
      "execution_count": null,
      "metadata": {
        "colab": {
          "base_uri": "https://localhost:8080/"
        },
        "id": "6aEx19Zb4TSG",
        "outputId": "4a112108-7284-4ee7-e58c-c04d153158e6"
      },
      "outputs": [
        {
          "name": "stdout",
          "output_type": "stream",
          "text": [
            "Matrix:\n",
            "[[1 2]\n",
            " [3 1]]\n",
            "\n",
            "Shape:\t(2, 2)\n",
            "Rank:\t2\n",
            "\n"
          ]
        }
      ],
      "source": [
        "## Declaring a 2 x 2 matrix\n",
        "A = np.array ([\n",
        "    [1, 2],\n",
        "    [3, 1]\n",
        "])\n",
        "describe_mat(A)\n"
      ]
    },
    {
      "cell_type": "code",
      "execution_count": null,
      "metadata": {
        "colab": {
          "base_uri": "https://localhost:8080/"
        },
        "id": "ReviCI2K6UEP",
        "outputId": "50da88b0-3dff-4102-95e6-53b2c283f51c"
      },
      "outputs": [
        {
          "name": "stdout",
          "output_type": "stream",
          "text": [
            "Matrix:\n",
            "[[1 2]\n",
            " [3 1]\n",
            " [5 8]]\n",
            "\n",
            "Shape:\t(3, 2)\n",
            "Rank:\t2\n",
            "\n"
          ]
        }
      ],
      "source": [
        "## Declaring a 3 x 2 matrix\n",
        "B = np.array ([\n",
        "    [1, 2],\n",
        "    [3, 1],\n",
        "    [5, 8]\n",
        "])\n",
        "describe_mat(B)"
      ]
    },
    {
      "cell_type": "markdown",
      "metadata": {
        "id": "4sIiq06_7TQT"
      },
      "source": [
        "# Categorizing Matrices\n"
      ]
    },
    {
      "cell_type": "markdown",
      "metadata": {
        "id": "l8-DFNvKYhqI"
      },
      "source": [
        "There are several ways of classifying matrices. Once could be according to their <b>shape</b> and another is according to their <b>element values</b>. We'll try to go through them."
      ]
    },
    {
      "cell_type": "markdown",
      "metadata": {
        "id": "s4MsDuDpYkS7"
      },
      "source": [
        "## According to shape"
      ]
    },
    {
      "cell_type": "markdown",
      "metadata": {
        "id": "9jfjLbswYgPa"
      },
      "source": [
        "### Row and column matrices"
      ]
    },
    {
      "cell_type": "markdown",
      "metadata": {
        "id": "L0ZIck6gYmu_"
      },
      "source": [
        "Row and column matrices are used to represent row and column spaces of a bigger vector space. Moreover, these are represented by a single column or single row. Using this can make vector and matrix computations easier. The shape of row matrices would be $1 \\times j$ and column matrices would be $i \\times 1$.\n"
      ]
    },
    {
      "cell_type": "code",
      "execution_count": null,
      "metadata": {
        "colab": {
          "base_uri": "https://localhost:8080/"
        },
        "id": "9zMR5Xmx7bYg",
        "outputId": "b9bd3259-f7e3-4dd0-815c-564da19d8e50"
      },
      "outputs": [
        {
          "name": "stdout",
          "output_type": "stream",
          "text": [
            "Matrix:\n",
            "[1 3 2]\n",
            "\n",
            "Shape:\t(3,)\n",
            "Rank:\t1\n",
            "\n",
            "Matrix:\n",
            "[[ 1  2  3 -4]]\n",
            "\n",
            "Shape:\t(1, 4)\n",
            "Rank:\t2\n",
            "\n"
          ]
        }
      ],
      "source": [
        "## Declaring a Row Matrix\n",
        "\n",
        "row_mat_1D = np.array ([\n",
        "    1, 3, 2\n",
        "]) ## this is a 1-D Matrix with a shape of (3,), it's not really considered as a row matrix\n",
        "row_mat_2D = np.array ([\n",
        "    [1,2,3,-4]\n",
        "]) ## this is a 2-D Matrix with a shape of (1,3)\n",
        "describe_mat(row_mat_1D)\n",
        "describe_mat(row_mat_2D)"
      ]
    },
    {
      "cell_type": "code",
      "execution_count": null,
      "metadata": {
        "colab": {
          "base_uri": "https://localhost:8080/"
        },
        "id": "xIttrRwj9ZpR",
        "outputId": "86ff8d16-9820-4ed8-848e-367685e14c36"
      },
      "outputs": [
        {
          "name": "stdout",
          "output_type": "stream",
          "text": [
            "Matrix:\n",
            "[[1]\n",
            " [3]\n",
            " [2]]\n",
            "\n",
            "Shape:\t(3, 1)\n",
            "Rank:\t2\n",
            "\n"
          ]
        }
      ],
      "source": [
        "## Declaring a Column Matrix\n",
        "\n",
        "col_mat = np.array ([\n",
        "    [3], \n",
        "    [5], \n",
        "    [1]\n",
        "]) ## this is a 2-D Matrix with a shape of (3,1)\n",
        "describe_mat(col_mat)"
      ]
    },
    {
      "cell_type": "markdown",
      "metadata": {
        "id": "ppCGWpu-931W"
      },
      "source": [
        "###Square Matrices"
      ]
    },
    {
      "cell_type": "markdown",
      "metadata": {
        "id": "X7CiCiCXYw9Q"
      },
      "source": [
        "A Square matrix represents both row and column matrices but with the same sizes. The shape of a square matrix can be presented as $i = j$.\n"
      ]
    },
    {
      "cell_type": "code",
      "execution_count": null,
      "metadata": {
        "id": "zcKYZbiG97kK"
      },
      "outputs": [],
      "source": [
        "def describe_mat(matrix):\n",
        "    is_square = True if matrix.shape[0] == matrix.shape[1] else False\n",
        "    print(f'Matrix:\\n{matrix}\\n\\nShape:\\t{matrix.shape}\\nRank:\\t{matrix.ndim}\\nIs square: {is_square}\\n')"
      ]
    },
    {
      "cell_type": "code",
      "execution_count": null,
      "metadata": {
        "colab": {
          "base_uri": "https://localhost:8080/"
        },
        "id": "hQaAEIG8-a6S",
        "outputId": "79e7e16e-1b57-4b58-e006-895ecd1484ca"
      },
      "outputs": [
        {
          "name": "stdout",
          "output_type": "stream",
          "text": [
            "Matrix:\n",
            "[[3 5 1]\n",
            " [1 2 3]\n",
            " [1 5 9]]\n",
            "\n",
            "Shape:\t(3, 3)\n",
            "Rank:\t2\n",
            "Is square: True\n",
            "\n",
            "Matrix:\n",
            "[[3 5 2]\n",
            " [1 2 4]]\n",
            "\n",
            "Shape:\t(2, 3)\n",
            "Rank:\t2\n",
            "Is square: False\n",
            "\n"
          ]
        }
      ],
      "source": [
        "square_mat = np.array ([\n",
        "   [3,5,1],\n",
        "   [1,2,3],\n",
        "   [1,5,9]                     \n",
        "])\n",
        "\n",
        "non_square_mat = np.array ([\n",
        "   [3,5,2],\n",
        "   [1,2,4]                   \n",
        "])\n",
        "describe_mat(square_mat)\n",
        "describe_mat(non_square_mat)"
      ]
    },
    {
      "cell_type": "markdown",
      "metadata": {
        "id": "s40BjwF9Yz_s"
      },
      "source": [
        "### According to element values"
      ]
    },
    {
      "cell_type": "markdown",
      "metadata": {
        "id": "5R8qqfewBFS7"
      },
      "source": [
        "### Null Matrix"
      ]
    },
    {
      "cell_type": "markdown",
      "metadata": {
        "id": "Hisf0gfMBueW"
      },
      "source": [
        "A Null Matrix is a type of matrix that has no elements as it is always a subspace of any vector or matrix.\n",
        "\n"
      ]
    },
    {
      "cell_type": "code",
      "execution_count": null,
      "metadata": {
        "id": "vmg7oJsuBEwE"
      },
      "outputs": [],
      "source": [
        "def describe_mat(matrix):\n",
        "    if matrix.size > 0:\n",
        "      is_square = True if matrix.shape[0] == matrix.shape[1] else False\n",
        "      print(f'Matrix:\\n{matrix}\\n\\nShape:\\t{matrix.shape}\\nRank:\\t{matrix.ndim}\\nIs Square: {is_square}\\n')\n",
        "    else:\n",
        "      print('Matrix is Null')"
      ]
    },
    {
      "cell_type": "code",
      "execution_count": null,
      "metadata": {
        "colab": {
          "base_uri": "https://localhost:8080/"
        },
        "id": "yEt9wDg3Bpp7",
        "outputId": "0a340600-aa9c-4d5f-f157-00faee5a9ab4"
      },
      "outputs": [
        {
          "name": "stdout",
          "output_type": "stream",
          "text": [
            "Matrix is Null\n"
          ]
        }
      ],
      "source": [
        "null_mat = np.array([])\n",
        "describe_mat(null_mat)"
      ]
    },
    {
      "cell_type": "markdown",
      "metadata": {
        "id": "ImcuXWSlCS9H"
      },
      "source": [
        "###Zero Matrix"
      ]
    },
    {
      "cell_type": "markdown",
      "metadata": {
        "id": "bDDRhcckY69O"
      },
      "source": [
        "A Zero matrix considers any rectangular matrix with a value of 0 for all of its elements."
      ]
    },
    {
      "cell_type": "code",
      "execution_count": null,
      "metadata": {
        "colab": {
          "base_uri": "https://localhost:8080/"
        },
        "id": "US8olFZsCUZh",
        "outputId": "7ec89d1a-6f2a-4bfb-fcee-a319e0b45085"
      },
      "outputs": [
        {
          "name": "stdout",
          "output_type": "stream",
          "text": [
            "Zero Row Matrix: \n",
            "[[0. 0.]]\n",
            "Zero Square Matrix: \n",
            "[[0. 0.]\n",
            " [0. 0.]]\n",
            "Zero Rectangle Matrix: \n",
            "[[0. 0.]\n",
            " [0. 0.]\n",
            " [0. 0.]]\n"
          ]
        }
      ],
      "source": [
        "zero_mat_row = np.zeros ((1,2))\n",
        "zero_mat_sqr = np.zeros ((2,2))\n",
        "zero_mat_rct = np.zeros ((3,2))\n",
        "\n",
        "print(f'Zero Row Matrix: \\n{zero_mat_row}')\n",
        "print(f'Zero Square Matrix: \\n{zero_mat_sqr}')\n",
        "print(f'Zero Rectangle Matrix: \\n{zero_mat_rct}')"
      ]
    },
    {
      "cell_type": "markdown",
      "metadata": {
        "id": "ZSnMFuPVD46N"
      },
      "source": [
        "###Ones Matrix"
      ]
    },
    {
      "cell_type": "markdown",
      "metadata": {
        "id": "zHqkO2RZY-9w"
      },
      "source": [
        "A ones matrix, almost similar to zero matrix, considers any rectangular matrix with a value of 1 for all its elements instead of 0\n"
      ]
    },
    {
      "cell_type": "code",
      "execution_count": null,
      "metadata": {
        "colab": {
          "base_uri": "https://localhost:8080/"
        },
        "id": "FAYQ1tl_D2e0",
        "outputId": "47350e3b-eea5-43e9-e861-087e890be440"
      },
      "outputs": [
        {
          "name": "stdout",
          "output_type": "stream",
          "text": [
            "Ones Row Matrix: \n",
            "[[1. 1.]]\n",
            "Ones Square Matrix: \n",
            "[[1. 1.]\n",
            " [1. 1.]]\n",
            "Ones Rectangle Matrix: \n",
            "[[1. 1.]\n",
            " [1. 1.]\n",
            " [1. 1.]]\n"
          ]
        }
      ],
      "source": [
        "ones_mat_row = np.ones ((1,2))\n",
        "ones_mat_sqr = np.ones ((2,2))\n",
        "ones_mat_rct = np.ones ((3,2))\n",
        "\n",
        "print(f'Ones Row Matrix: \\n{ones_mat_row}')\n",
        "print(f'Ones Square Matrix: \\n{ones_mat_sqr}')\n",
        "print(f'Ones Rectangle Matrix: \\n{ones_mat_rct}')"
      ]
    },
    {
      "cell_type": "markdown",
      "metadata": {
        "id": "UK3H2_n6EoR-"
      },
      "source": [
        "###Diagonal Matrix"
      ]
    },
    {
      "cell_type": "markdown",
      "metadata": {
        "id": "-ekDu6BrZE81"
      },
      "source": [
        "A diagonal matrix has the shape of a square matrix but only has values at the diagonal of the matrix."
      ]
    },
    {
      "cell_type": "code",
      "execution_count": null,
      "metadata": {
        "colab": {
          "base_uri": "https://localhost:8080/"
        },
        "id": "Qft8PhGnEp3c",
        "outputId": "f09f11ab-5c66-4a66-a035-25c4b16dbf51"
      },
      "outputs": [
        {
          "data": {
            "text/plain": [
              "array([[3, 5, 1],\n",
              "       [0, 3, 1],\n",
              "       [7, 8, 9]])"
            ]
          },
          "execution_count": 59,
          "metadata": {},
          "output_type": "execute_result"
        }
      ],
      "source": [
        "np.array ([\n",
        "  [3,5,1],\n",
        "  [0,3,1],\n",
        "  [7,8,9]         \n",
        "])\n",
        "# a[1,1], a[2,2], a[3,3], ... a[n-1,n-1]"
      ]
    },
    {
      "cell_type": "code",
      "execution_count": null,
      "metadata": {
        "colab": {
          "base_uri": "https://localhost:8080/"
        },
        "id": "v2wX-zcFE5uO",
        "outputId": "00f385b8-9801-4178-d4da-04e7517cc331"
      },
      "outputs": [
        {
          "data": {
            "text/plain": [
              "array([[2, 0, 0, 0],\n",
              "       [0, 3, 0, 0],\n",
              "       [0, 0, 4, 0],\n",
              "       [0, 0, 0, 5]])"
            ]
          },
          "execution_count": 60,
          "metadata": {},
          "output_type": "execute_result"
        }
      ],
      "source": [
        "d = np.diag([2,3,4,5])\n",
        "d.shape[0]==d.shape[1]\n",
        "d"
      ]
    },
    {
      "cell_type": "markdown",
      "metadata": {
        "id": "fjuu3I-0F1dp"
      },
      "source": [
        "###Identity Matrix"
      ]
    },
    {
      "cell_type": "markdown",
      "metadata": {
        "id": "kvdx0Kc5ZKPB"
      },
      "source": [
        "In linear algebra, identity matrix is a square matrix that contains elements that are diagonal with value of one. While the rest of the matrix have the value of zero."
      ]
    },
    {
      "cell_type": "code",
      "execution_count": null,
      "metadata": {
        "colab": {
          "base_uri": "https://localhost:8080/"
        },
        "id": "X40T9scYF3CR",
        "outputId": "1129a491-ee9c-4e66-81ca-761477e1ba74"
      },
      "outputs": [
        {
          "data": {
            "text/plain": [
              "array([[1., 0., 0., 0., 0.],\n",
              "       [0., 1., 0., 0., 0.],\n",
              "       [0., 0., 1., 0., 0.],\n",
              "       [0., 0., 0., 1., 0.],\n",
              "       [0., 0., 0., 0., 1.]])"
            ]
          },
          "execution_count": 3,
          "metadata": {},
          "output_type": "execute_result"
        }
      ],
      "source": [
        "np.eye(5)"
      ]
    },
    {
      "cell_type": "code",
      "execution_count": null,
      "metadata": {
        "colab": {
          "base_uri": "https://localhost:8080/"
        },
        "id": "CWhsgORQGAkh",
        "outputId": "056721f8-a0f4-454f-eab4-e108fe2ec604"
      },
      "outputs": [
        {
          "data": {
            "text/plain": [
              "array([[1., 0., 0.],\n",
              "       [0., 1., 0.],\n",
              "       [0., 0., 1.]])"
            ]
          },
          "execution_count": 65,
          "metadata": {},
          "output_type": "execute_result"
        }
      ],
      "source": [
        "np.identity(3)"
      ]
    },
    {
      "cell_type": "markdown",
      "metadata": {
        "id": "c0c3-7oqGHaT"
      },
      "source": [
        "###Upper Triangular Matrix"
      ]
    },
    {
      "cell_type": "markdown",
      "metadata": {
        "id": "EOypFTVsZNy5"
      },
      "source": [
        "Upper triangular matrix is also a square matrix where all entries below that main diagonal has no value or zero."
      ]
    },
    {
      "cell_type": "code",
      "execution_count": null,
      "metadata": {
        "colab": {
          "base_uri": "https://localhost:8080/"
        },
        "id": "KpupxhizGNA_",
        "outputId": "a717e133-b324-4375-9006-e58434513033"
      },
      "outputs": [
        {
          "data": {
            "text/plain": [
              "array([[1, 7, 9, 3],\n",
              "       [5, 9, 2, 0],\n",
              "       [4, 7, 8, 9],\n",
              "       [2, 3, 4, 5]])"
            ]
          },
          "execution_count": 66,
          "metadata": {},
          "output_type": "execute_result"
        }
      ],
      "source": [
        "np.array([\n",
        "    [1,7,9,3],\n",
        "    [5,9,2,0],\n",
        "    [4,7,8,9],\n",
        "    [2,3,4,5]\n",
        "])"
      ]
    },
    {
      "cell_type": "markdown",
      "metadata": {
        "id": "mlS6iARhG3MA"
      },
      "source": [
        "###Lower Triangular Matrix"
      ]
    },
    {
      "cell_type": "markdown",
      "metadata": {
        "id": "CxU76WQHZQ_F"
      },
      "source": [
        "On the other hand, lower triangular matrix is a square matrix where all the entries above the main daigonal has no value or zero."
      ]
    },
    {
      "cell_type": "code",
      "execution_count": null,
      "metadata": {
        "colab": {
          "base_uri": "https://localhost:8080/"
        },
        "id": "4yqD3UHYGxc4",
        "outputId": "a4a4b558-161b-4fb4-c731-d970ad5a89c9"
      },
      "outputs": [
        {
          "data": {
            "text/plain": [
              "array([[1, 0, 0],\n",
              "       [5, 3, 0],\n",
              "       [3, 5, 1]])"
            ]
          },
          "execution_count": 67,
          "metadata": {},
          "output_type": "execute_result"
        }
      ],
      "source": [
        "np.array([\n",
        "    [1,0,0],\n",
        "    [5,3,0],\n",
        "    [3,5,1]      \n",
        "\n",
        "])"
      ]
    },
    {
      "cell_type": "markdown",
      "metadata": {
        "id": "ZTUgOt36Hpux"
      },
      "source": [
        "## Practice No. 1"
      ]
    },
    {
      "cell_type": "code",
      "execution_count": null,
      "metadata": {
        "id": "5rJTbtPmOljI"
      },
      "outputs": [],
      "source": [
        "import numpy as np\n",
        "import matplotlib.pyplot as plt\n",
        "import scipy.linalg as la\n",
        "%matplotlib inline"
      ]
    },
    {
      "cell_type": "markdown",
      "metadata": {
        "id": "08Mn798EH97q"
      },
      "source": [
        "1. Given the linear combination below, try to create a corresponding matrix representing it.\n"
      ]
    },
    {
      "cell_type": "markdown",
      "metadata": {
        "id": "JG4i6NeuIDyI"
      },
      "source": [
        ":$$\\theta = 5x + 3y - z$$\n"
      ]
    },
    {
      "cell_type": "markdown",
      "metadata": {
        "id": "qRoWZ_ClK8Eb"
      },
      "source": [
        "$$\n",
        "\\theta = \\begin{bmatrix} 5  &  3 & -1\\end{bmatrix} \\\\\n",
        "$$"
      ]
    },
    {
      "cell_type": "code",
      "execution_count": null,
      "metadata": {
        "id": "GFqCccqYOsCk"
      },
      "outputs": [],
      "source": [
        "def describe_mat(matrix):\n",
        "  print(f'Matrix:\\n{matrix}\\n\\nShape:\\t{matrix.shape}\\nRank:\\t{matrix.ndim}\\n')"
      ]
    },
    {
      "cell_type": "code",
      "execution_count": null,
      "metadata": {
        "colab": {
          "base_uri": "https://localhost:8080/"
        },
        "id": "qpX-AxXxNz_0",
        "outputId": "5963cd8e-87f0-4cda-92f5-dd438b6f419d"
      },
      "outputs": [
        {
          "name": "stdout",
          "output_type": "stream",
          "text": [
            "Matrix:\n",
            "[[ 5  3 -1]]\n",
            "\n",
            "Shape:\t(1, 3)\n",
            "Rank:\t2\n",
            "\n"
          ]
        }
      ],
      "source": [
        "theta = np.array ([\n",
        "    [5,3,-1]\n",
        "]) \n",
        "describe_mat (theta)"
      ]
    },
    {
      "cell_type": "markdown",
      "metadata": {
        "id": "aXvbMTRZIDBA"
      },
      "source": [
        "2. Given the system of linear combinations below, try to encode it as a matrix. Also describe the matrix.\n"
      ]
    },
    {
      "cell_type": "markdown",
      "metadata": {
        "id": "lE7BbVpOH_Nw"
      },
      "source": [
        "$$\n",
        "A = \\left\\{\\begin{array}\n",
        "5x_1 + 2x_2 +x_3\\\\\n",
        "4x_2 - x_3\\\\\n",
        "10x_3\n",
        "\\end{array}\\right.\n",
        "$$\n"
      ]
    },
    {
      "cell_type": "code",
      "execution_count": null,
      "metadata": {
        "id": "LgOkCXQVNEf0"
      },
      "outputs": [],
      "source": [
        "def describe_mat(matrix):\n",
        "    is_square = True if matrix.shape[0] == matrix.shape[1] else False\n",
        "    print(f'Matrix:\\n{matrix}\\n\\nShape:\\t{matrix.shape}\\nRank:\\t{matrix.ndim}\\nIs square: {is_square}\\n')"
      ]
    },
    {
      "cell_type": "code",
      "execution_count": null,
      "metadata": {
        "colab": {
          "base_uri": "https://localhost:8080/"
        },
        "id": "PqWq6idYLooo",
        "outputId": "d7c83658-7d88-4d9a-83bd-4146f37450f4"
      },
      "outputs": [
        {
          "name": "stdout",
          "output_type": "stream",
          "text": [
            "Matrix:\n",
            "[[ 1  2  1]\n",
            " [ 0  4 -1]\n",
            " [ 0  0 10]]\n",
            "\n",
            "Shape:\t(3, 3)\n",
            "Rank:\t2\n",
            "Is square: True\n",
            "\n"
          ]
        }
      ],
      "source": [
        "A = np.array ([\n",
        "   [1,2,1],\n",
        "   [0,4,-1],\n",
        "   [0,0,10]                     \n",
        "])\n",
        "\n",
        "describe_mat(A)\n"
      ]
    },
    {
      "cell_type": "markdown",
      "metadata": {
        "id": "uOhx-5LVIFjc"
      },
      "source": [
        "3. Given the matrix below, express it as a linear combination in a markdown and a LaTeX markdown\n"
      ]
    },
    {
      "cell_type": "code",
      "execution_count": null,
      "metadata": {
        "id": "kT3HUvYYIzSx"
      },
      "outputs": [],
      "source": [
        "G = np.array([\n",
        "    [1,7,8],\n",
        "    [2,2,2],\n",
        "    [4,6,7]\n",
        "])"
      ]
    },
    {
      "cell_type": "markdown",
      "metadata": {
        "id": "SsKnnRlPZXll"
      },
      "source": [
        "$$\n",
        "G = \\left\\{\\begin{array}\n",
        "1x_1 + 7x_2 +8x_3\\\\\n",
        "4x_2 - x_3\\\\\n",
        "10x_3\n",
        "\\end{array}\\right.\n",
        "$$"
      ]
    },
    {
      "cell_type": "markdown",
      "metadata": {
        "id": "PPWJ-6v5LIDw"
      },
      "source": [
        "$$\n",
        "G = \\begin{bmatrix} 1 & 7 & 8 \\\\ 2 & 2 & 2 \\\\ 4 & 6 & 7\\end{bmatrix}\n",
        "$$"
      ]
    },
    {
      "cell_type": "markdown",
      "metadata": {
        "id": "OJvbQsQsLQax"
      },
      "source": [
        "$$\n",
        "G = \\left\\{\n",
        "    \\begin{array}\\\n",
        "        1 + 7 + 8 \\\\\n",
        "        2 + 2 + 2 \\\\\n",
        "        4 + 6 + 7 \\\\\n",
        "    \\end{array}\n",
        "\\right. \\\\\n",
        " $$"
      ]
    },
    {
      "cell_type": "markdown",
      "metadata": {
        "id": "T4meiGxQIvcn"
      },
      "source": [
        "4. Given the matrix below, display the output as a LaTeX markdown also express it as a system of linear combinations.\n"
      ]
    },
    {
      "cell_type": "code",
      "execution_count": null,
      "metadata": {
        "colab": {
          "base_uri": "https://localhost:8080/"
        },
        "id": "61LgblQdI514",
        "outputId": "c508a9b1-82ea-482f-b224-1f12ca5fefe4"
      },
      "outputs": [
        {
          "data": {
            "text/plain": [
              "array([[1, 0, 0],\n",
              "       [2, 2, 0],\n",
              "       [4, 6, 7]])"
            ]
          },
          "execution_count": 69,
          "metadata": {},
          "output_type": "execute_result"
        }
      ],
      "source": [
        "H = np.tril(G)\n",
        "H\n"
      ]
    },
    {
      "cell_type": "markdown",
      "metadata": {
        "id": "3_NDlllyQYgV"
      },
      "source": [
        "$$\n",
        "H = \\begin{bmatrix} 1 & 0 & 0 \\\\ 2 & 2 & 0 \\\\ 4 & 6 & 7\\end{bmatrix}\n",
        "$$"
      ]
    },
    {
      "cell_type": "markdown",
      "metadata": {
        "id": "VlvjUX9XRLqJ"
      },
      "source": [
        "$$\n",
        "H = \\left\\{\n",
        "    \\begin{array}\\\n",
        "        1 + 0 + 0 \\\\\n",
        "        2 + 2 + 0 \\\\\n",
        "        4 + 6 + 7 \\\\\n",
        "    \\end{array}\n",
        "\\right. \\\\\n",
        " $$"
      ]
    },
    {
      "cell_type": "markdown",
      "metadata": {
        "id": "PfE-AiRFIIIL"
      },
      "source": [
        "# Matrix Algebra"
      ]
    },
    {
      "cell_type": "markdown",
      "metadata": {
        "id": "PDbxOLe6JO0e"
      },
      "source": [
        "### Addition"
      ]
    },
    {
      "cell_type": "markdown",
      "metadata": {
        "id": "l5lCPQq3l8c3"
      },
      "source": [
        "Addition of matrices is the operation of adding two matrices by adding the corresponding entries together. Two matrices can be added only if they have the same numbers of row and columns."
      ]
    },
    {
      "cell_type": "code",
      "execution_count": null,
      "metadata": {
        "colab": {
          "base_uri": "https://localhost:8080/"
        },
        "id": "mkt_YTUkJQTf",
        "outputId": "ed6e6e7e-6c0b-46a7-f75d-da3c9fb282e9"
      },
      "outputs": [
        {
          "data": {
            "text/plain": [
              "array([[ 3,  4],\n",
              "       [ 3,  8],\n",
              "       [11,  8]])"
            ]
          },
          "execution_count": 72,
          "metadata": {},
          "output_type": "execute_result"
        }
      ],
      "source": [
        "A = np.array([\n",
        "    [1,2],\n",
        "    [3,4],           \n",
        "    [6,7]\n",
        "])\n",
        "B = np.array([\n",
        "    [2,2],\n",
        "    [0,4],           \n",
        "    [5,1]              \n",
        "])\n",
        "A+B"
      ]
    },
    {
      "cell_type": "code",
      "execution_count": null,
      "metadata": {
        "colab": {
          "base_uri": "https://localhost:8080/"
        },
        "id": "OWLlhAQKJtxe",
        "outputId": "e76ec243-8852-48c4-980c-600b728b21ae"
      },
      "outputs": [
        {
          "data": {
            "text/plain": [
              "array([[ 4,  5],\n",
              "       [ 6,  7],\n",
              "       [ 9, 10]])"
            ]
          },
          "execution_count": 74,
          "metadata": {},
          "output_type": "execute_result"
        }
      ],
      "source": [
        "3+A ##Broadcasting"
      ]
    },
    {
      "cell_type": "markdown",
      "metadata": {
        "id": "45qID_j_J418"
      },
      "source": [
        "### Subtraction"
      ]
    },
    {
      "cell_type": "markdown",
      "metadata": {
        "id": "n8GzKgIcl-m1"
      },
      "source": [
        "Subtraction of matrices deals with subtracting elements in each row and column from elements in row and columns. Like in addition, two matrices can be subtracted only if they have the same numbers of row and columns."
      ]
    },
    {
      "cell_type": "code",
      "execution_count": null,
      "metadata": {
        "id": "kIT6L--uJ6IT"
      },
      "outputs": [],
      "source": [
        "A = np.array([\n",
        "    [1,2],\n",
        "    [3,4],           \n",
        "    [6,7]\n",
        "])\n",
        "B = np.array([\n",
        "    [2,2],\n",
        "    [0,4],           \n",
        "    [5,1]              \n",
        "])\n",
        "A-B"
      ]
    },
    {
      "cell_type": "code",
      "execution_count": null,
      "metadata": {
        "colab": {
          "base_uri": "https://localhost:8080/"
        },
        "id": "MVnuKCZNJ-YV",
        "outputId": "6a27f298-84ec-4f81-f76b-425b48553188"
      },
      "outputs": [
        {
          "data": {
            "text/plain": [
              "array([[4, 4],\n",
              "       [6, 2],\n",
              "       [1, 5]])"
            ]
          },
          "execution_count": 75,
          "metadata": {},
          "output_type": "execute_result"
        }
      ],
      "source": [
        "6-B ##Broadcasting"
      ]
    },
    {
      "cell_type": "markdown",
      "metadata": {
        "id": "F2G25JaeKHmQ"
      },
      "source": [
        "### Element-wise Multiplication"
      ]
    },
    {
      "cell_type": "markdown",
      "metadata": {
        "id": "3KT8k_oomAhv"
      },
      "source": [
        "In element-wise multiplication in matrix, every element present in the first matrix will be multiplies to the second matrix's element. Like in addition and subtraction, before performing element-wise multiplication make sure that the both matrices has the same dimensions.\n"
      ]
    },
    {
      "cell_type": "code",
      "execution_count": null,
      "metadata": {
        "colab": {
          "base_uri": "https://localhost:8080/"
        },
        "id": "5VUWv0cqKLcE",
        "outputId": "c4f06ca4-308f-42ce-9d0d-e279b2fc2fab"
      },
      "outputs": [
        {
          "data": {
            "text/plain": [
              "array([[ 2,  4],\n",
              "       [ 0, 16],\n",
              "       [30,  7]])"
            ]
          },
          "execution_count": 76,
          "metadata": {},
          "output_type": "execute_result"
        }
      ],
      "source": [
        "A*B"
      ]
    },
    {
      "cell_type": "code",
      "execution_count": null,
      "metadata": {
        "colab": {
          "base_uri": "https://localhost:8080/"
        },
        "id": "IuPWbL8cKQeg",
        "outputId": "a5c45cb1-1f48-4b6b-c345-6e4221cd1057"
      },
      "outputs": [
        {
          "data": {
            "text/plain": [
              "array([[ 4,  8],\n",
              "       [12, 16],\n",
              "       [24, 28]])"
            ]
          },
          "execution_count": 77,
          "metadata": {},
          "output_type": "execute_result"
        }
      ],
      "source": [
        "4*A"
      ]
    },
    {
      "cell_type": "markdown",
      "metadata": {
        "id": "G_r8jNsIZ66c"
      },
      "source": [
        "## Activity 2"
      ]
    },
    {
      "cell_type": "markdown",
      "metadata": {
        "id": "uIpwPMOLZ856"
      },
      "source": [
        "### Task 1"
      ]
    },
    {
      "cell_type": "markdown",
      "metadata": {
        "id": "hbbBCKEwabO0"
      },
      "source": [
        "Create a function named `mat_desc()` that througouhly describes a matrix, it should: <br>\n",
        "1. Displays the shape, size, and rank of the matrix. <br>\n",
        "2. Displays whether the matrix is square or non-square. <br>\n",
        "3. Displays whether the matrix is an empty matrix. <br>\n",
        "4. Displays if the matrix is an identity, ones, or zeros matrix <br>\n",
        "   \n",
        "Use 3 sample matrices in which their shapes are not lower than $(3,3)$.\n",
        "In your methodology, create a flowchart discuss the functions and methods you have done. Present your results in the results section showing the description of each matrix you have declared."
      ]
    },
    {
      "cell_type": "code",
      "execution_count": null,
      "metadata": {
        "id": "gEfkA6LWw-CR"
      },
      "outputs": [],
      "source": [
        "import numpy as np\n",
        "def mat_desc(mat):\n",
        "    sq = False\n",
        "    mat = np.array(mat)\n",
        "    print(mat)\n",
        "    print('Shape:', mat.shape)\n",
        "    print('Size:', mat.size)\n",
        "    print('Rank:', np.linalg.matrix_rank(mat))\n",
        "    if(mat.shape[0] == mat.shape[1]):\n",
        "        sq = True\n",
        "        print('The matrix is square')\n",
        "    else:\n",
        "        print('The matrix is non-square')\n",
        "    if(mat.shape[0] == 0 and mat.shape[1] == 0):\n",
        "        print('The matrix is empty')\n",
        "    else:\n",
        "        print('The matrix is not empty')\n",
        "    iden = np.identity(mat.shape[0])\n",
        "    if(sq and (iden == mat).all()):\n",
        "        print('The matrix is an identity matrix')\n",
        "    else:\n",
        "        print('The matrix is not an identity matrix')\n",
        "    one = np.ones((mat.shape[0], mat.shape[1]))\n",
        "    if((one == mat).all()):\n",
        "        print('The matrix is an ones matrix')\n",
        "    else:\n",
        "        print('The matrix is not an ones matrix')\n",
        "    zero = np.zeros((mat.shape[0], mat.shape[1]))\n",
        "    if((zero == mat).all()):\n",
        "        print('The matrix is an zeros matrix')\n",
        "    else:\n",
        "        print('The matrix is not a zeros matrix')"
      ]
    },
    {
      "cell_type": "code",
      "execution_count": null,
      "metadata": {
        "colab": {
          "base_uri": "https://localhost:8080/"
        },
        "id": "P-nyXwlxxQ7r",
        "outputId": "961db6dc-95bc-44f0-f4a5-37e851bb833c"
      },
      "outputs": [
        {
          "name": "stdout",
          "output_type": "stream",
          "text": [
            "Matrix 1:\n",
            "[[1 2 3]\n",
            " [4 5 6]\n",
            " [7 8 9]]\n",
            "Shape: (3, 3)\n",
            "Size: 9\n",
            "Rank: 2\n",
            "The matrix is square\n",
            "The matrix is not empty\n",
            "The matrix is not an identity matrix\n",
            "The matrix is not an ones matrix\n",
            "The matrix is not a zeros matrix\n",
            "Matrix 2:\n",
            "[[1 0 0]\n",
            " [0 1 0]\n",
            " [0 0 1]]\n",
            "Shape: (3, 3)\n",
            "Size: 9\n",
            "Rank: 3\n",
            "The matrix is square\n",
            "The matrix is not empty\n",
            "The matrix is an identity matrix\n",
            "The matrix is not an ones matrix\n",
            "The matrix is not a zeros matrix\n",
            "Matrix 3:\n",
            "[[0 0 0]\n",
            " [0 0 0]\n",
            " [0 0 0]\n",
            " [0 0 0]]\n",
            "Shape: (4, 3)\n",
            "Size: 12\n",
            "Rank: 0\n",
            "The matrix is non-square\n",
            "The matrix is not empty\n",
            "The matrix is not an identity matrix\n",
            "The matrix is not an ones matrix\n",
            "The matrix is an zeros matrix\n"
          ]
        }
      ],
      "source": [
        "print('Matrix 1:')\n",
        "mat_desc([[1,2,3],[4,5,6],[7,8,9]])\n",
        "\n",
        "print('Matrix 2:')\n",
        "mat_desc([[1,0,0],[0,1,0],[0,0,1]])\n",
        "\n",
        "print('Matrix 3:')\n",
        "mat_desc([[0,0,0],[0,0,0],[0,0,0],[0,0,0]])"
      ]
    },
    {
      "cell_type": "markdown",
      "metadata": {
        "id": "3Lq0Q6s0aqYL"
      },
      "source": [
        "### Task 2"
      ]
    },
    {
      "cell_type": "markdown",
      "metadata": {
        "id": "TigW4Mwoaw3H"
      },
      "source": [
        "Create a function named mat_operations() that takes in two matrices a input parameters it should:\n",
        "\n",
        "1. Determines if the matrices are viable for operation and returns your own error message if they are not viable.<br>\n",
        "2. Returns the sum of the matrices.<br>\n",
        "3. Returns the difference of the matrices.<br>\n",
        "4. Returns the element-wise multiplication of the matrices.<br>\n",
        "5. Returns the element-wise division of the matrices.<br>\n",
        "\n",
        "Use 3 sample matrices in which their shapes are not lower than  (3,3) . In your methodology, create a flowchart discuss the functions and methods you have done. Present your results in the results section showing the description of each matrix you have declared."
      ]
    },
    {
      "cell_type": "code",
      "execution_count": 1,
      "metadata": {
        "colab": {
          "base_uri": "https://localhost:8080/"
        },
        "id": "X_pLDFD4Uhj-",
        "outputId": "540a0d14-26c2-4ea5-df25-e158dcc80de9"
      },
      "outputs": [
        {
          "output_type": "stream",
          "name": "stdout",
          "text": [
            "x =  [[38 40 96]\n",
            " [38  0 30]\n",
            " [25  4 60]]\n",
            "y =  [[ 5 48 10]\n",
            " [ 6 57 81]\n",
            " [37 86 52]]\n",
            "x + y =  [[ 43  88 106]\n",
            " [ 44  57 111]\n",
            " [ 62  90 112]]\n",
            "x - y =  [[ 33  -8  86]\n",
            " [ 32 -57 -51]\n",
            " [-12 -82   8]]\n",
            "x * y =  [[ 190 1920  960]\n",
            " [ 228    0 2430]\n",
            " [ 925  344 3120]]\n"
          ]
        }
      ],
      "source": [
        "import numpy as np\n",
        "def mat_operation(a,b):\n",
        "  r1=len(a)\n",
        "  r2=len(b)\n",
        "  c1=len(a[0])\n",
        "  c2=len(b[0])\n",
        "  if r1!=r2 and c1!=c2 :\n",
        "    return \"Operation not possible\"\n",
        "  #Compute the sum of the array\n",
        "  s=a+b\n",
        "  #Compute the difference\n",
        "  d=a-b\n",
        "  #Compute the dot product \n",
        "  p=a*b\n",
        "  #Return the result\n",
        "  return [s,d,p]\n",
        "#generate the 2 random matrices\n",
        "x =  np.random.randint(100, size=(3, 3))\n",
        "y =  np.random.randint(100, size=(3, 3))\n",
        "print(\"x = \",x)\n",
        "print(\"y = \",y)\n",
        "[s,d,p]=mat_operation(x,y)\n",
        "print(\"x + y = \",s)\n",
        "print(\"x - y = \",d)\n",
        "print(\"x * y = \",p)"
      ]
    },
    {
      "cell_type": "markdown",
      "metadata": {
        "id": "xdHeqZxba3gv"
      },
      "source": [
        "##Conclusion"
      ]
    },
    {
      "cell_type": "markdown",
      "metadata": {
        "id": "FwXER8wLa7nB"
      },
      "source": [
        "For your conclusion synthesize the concept and application of the laboratory. Briefly discuss what you have learned and achieved in this activity. Also answer the question: \"How can matrix operations solve problems in technology?\""
      ]
    }
  ],
  "metadata": {
    "colab": {
      "collapsed_sections": [],
      "name": "Assignment 3.ipynb",
      "provenance": [],
      "authorship_tag": "ABX9TyPppSjDNazoCyY1TTBeAKM5",
      "include_colab_link": true
    },
    "kernelspec": {
      "display_name": "Python 3",
      "name": "python3"
    },
    "language_info": {
      "name": "python"
    }
  },
  "nbformat": 4,
  "nbformat_minor": 0
}